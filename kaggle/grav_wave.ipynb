{
 "cells": [
  {
   "cell_type": "code",
   "execution_count": null,
   "source": [
    "import numpy as np\r\n",
    "import pandas as pd\r\n",
    "import matplotlib.pyplot as plt\r\n",
    "import os, sys"
   ],
   "outputs": [],
   "metadata": {}
  },
  {
   "cell_type": "code",
   "execution_count": null,
   "source": [
    "# Sample frequency\r\n",
    "fs = 2048\r\n",
    "dt = 1/fs\r\n",
    "# Time span of one time series\r\n",
    "t_series = 2\r\n",
    "t = np.arange(0, t_series, dt)\r\n",
    "fftl = 16384\r\n",
    "f = np.arange(0, fs/2-1/fftl, fs/fftl)"
   ],
   "outputs": [],
   "metadata": {}
  },
  {
   "cell_type": "code",
   "execution_count": null,
   "source": [
    "train_labels = pd.read_csv(\"../input/g2net-gravitational-wave-detection/training_labels.csv\")\r\n",
    "samp_subm = pd.read_csv(\"../input/g2net-gravitational-wave-detection/sample_submission.csv\")\r\n",
    "\r\n",
    "train_labels.head(10)"
   ],
   "outputs": [],
   "metadata": {}
  },
  {
   "cell_type": "code",
   "execution_count": null,
   "source": [
    "# Есть волна\r\n",
    "data_tmp = np.load('../input/g2net-gravitational-wave-detection/train/0/0/0/0001016d12.npy')\r\n",
    "\r\n",
    "data_spec = (abs(np.fft.rfft(data_tmp, fftl, axis=1)))**2\r\n",
    "data_spec = data_spec/len(data_spec)\r\n",
    "\r\n",
    "fig, ax = plt.subplots(3, 2, figsize=(10, 6))\r\n",
    "ax[0, 0].plot(t, data_tmp[0, :]); ax[0, 1].plot(f, data_spec[0, :len(f)])\r\n",
    "ax[1, 0].plot(t, data_tmp[1, :]); ax[1, 1].plot(f, data_spec[1, :len(f)])\r\n",
    "ax[2, 0].plot(t, data_tmp[2, :]); ax[2, 1].plot(f, data_spec[2, :len(f)])\r\n",
    "\r\n",
    "ax[0,1].set(xlim=(0, 30))\r\n",
    "ax[1,1].set(xlim=(0, 30))\r\n",
    "ax[2,1].set(xlim=(0, 30))"
   ],
   "outputs": [],
   "metadata": {}
  },
  {
   "cell_type": "code",
   "execution_count": null,
   "source": [
    "# Нет волны\r\n",
    "data_tmp = np.load('../input/g2net-gravitational-wave-detection/train/0/0/0/0000c3b9c9.npy')\r\n",
    "\r\n",
    "data_spec = (abs(np.fft.rfft(data_tmp, fftl, axis=1)))**2\r\n",
    "data_spec = data_spec/len(data_spec)\r\n",
    "\r\n",
    "fig, ax = plt.subplots(3, 2, figsize=(10, 6))\r\n",
    "ax[0, 0].plot(t, data_tmp[0, :]); ax[0, 1].plot(f, data_spec[0, :len(f)])\r\n",
    "ax[1, 0].plot(t, data_tmp[1, :]); ax[1, 1].plot(f, data_spec[1, :len(f)])\r\n",
    "ax[2, 0].plot(t, data_tmp[2, :]); ax[2, 1].plot(f, data_spec[2, :len(f)])\r\n",
    "\r\n",
    "ax[0,1].set(xlim=(0, 30))\r\n",
    "ax[1,1].set(xlim=(0, 30))\r\n",
    "ax[2,1].set(xlim=(0, 30))"
   ],
   "outputs": [],
   "metadata": {}
  }
 ],
 "metadata": {
  "orig_nbformat": 4,
  "language_info": {
   "name": "python"
  }
 },
 "nbformat": 4,
 "nbformat_minor": 2
}