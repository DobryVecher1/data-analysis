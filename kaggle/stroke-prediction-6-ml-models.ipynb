{
 "cells": [
  {
   "cell_type": "markdown",
   "id": "b3af7559",
   "metadata": {
    "papermill": {
     "duration": 0.023068,
     "end_time": "2021-09-18T11:13:21.470183",
     "exception": false,
     "start_time": "2021-09-18T11:13:21.447115",
     "status": "completed"
    },
    "tags": []
   },
   "source": [
    "# Stroke prediction\n",
    "## This dataset is used to predict whether a patient is likely to get stroke based on the input parameters\n",
    "## Attribute Information\n",
    "- **id**: unique identifier\n",
    "- **gender**: \"Male\", \"Female\" or \"Other\"\n",
    "- **age**: age of the patient\n",
    "- **hypertension**: 0 if the patient doesn't have hypertension, 1 if the patient has hypertension\n",
    "- **heart_disease**: 0 if the patient doesn't have any heart diseases, 1 if the patient has a heart disease\n",
    "- **ever_married**: \"No\" or \"Yes\"\n",
    "- **work_type**: \"children\", \"Govt_jov\", \"Never_worked\", \"Private\" or \"Self-employed\"\n",
    "- **Residence_type**: \"Rural\" or \"Urban\"\n",
    "- **avg_glucose_level**: average glucose level in blood\n",
    "- **bmi**: body mass index\n",
    "- **smoking_status**: \"formerly smoked\", \"never smoked\", \"smokes\" or \"Unknown\"*\n",
    "- **stroke**: 1 if the patient had a stroke or 0 if not.\n",
    "Note: \"Unknown\" in smoking_status means that the information is unavailable for this patient"
   ]
  },
  {
   "cell_type": "code",
   "execution_count": 1,
   "id": "edebacb1",
   "metadata": {
    "execution": {
     "iopub.execute_input": "2021-09-18T11:13:21.532527Z",
     "iopub.status.busy": "2021-09-18T11:13:21.530172Z",
     "iopub.status.idle": "2021-09-18T11:13:22.918099Z",
     "shell.execute_reply": "2021-09-18T11:13:22.918674Z",
     "shell.execute_reply.started": "2021-09-18T11:06:28.674881Z"
    },
    "papermill": {
     "duration": 1.426096,
     "end_time": "2021-09-18T11:13:22.919014",
     "exception": false,
     "start_time": "2021-09-18T11:13:21.492918",
     "status": "completed"
    },
    "tags": []
   },
   "outputs": [
    {
     "data": {
      "text/html": [
       "<div>\n",
       "<style scoped>\n",
       "    .dataframe tbody tr th:only-of-type {\n",
       "        vertical-align: middle;\n",
       "    }\n",
       "\n",
       "    .dataframe tbody tr th {\n",
       "        vertical-align: top;\n",
       "    }\n",
       "\n",
       "    .dataframe thead th {\n",
       "        text-align: right;\n",
       "    }\n",
       "</style>\n",
       "<table border=\"1\" class=\"dataframe\">\n",
       "  <thead>\n",
       "    <tr style=\"text-align: right;\">\n",
       "      <th></th>\n",
       "      <th>gender</th>\n",
       "      <th>age</th>\n",
       "      <th>hypertension</th>\n",
       "      <th>heart_disease</th>\n",
       "      <th>ever_married</th>\n",
       "      <th>work_type</th>\n",
       "      <th>Residence_type</th>\n",
       "      <th>avg_glucose_level</th>\n",
       "      <th>bmi</th>\n",
       "      <th>smoking_status</th>\n",
       "    </tr>\n",
       "    <tr>\n",
       "      <th>id</th>\n",
       "      <th></th>\n",
       "      <th></th>\n",
       "      <th></th>\n",
       "      <th></th>\n",
       "      <th></th>\n",
       "      <th></th>\n",
       "      <th></th>\n",
       "      <th></th>\n",
       "      <th></th>\n",
       "      <th></th>\n",
       "    </tr>\n",
       "  </thead>\n",
       "  <tbody>\n",
       "    <tr>\n",
       "      <th>9046</th>\n",
       "      <td>Male</td>\n",
       "      <td>67.0</td>\n",
       "      <td>0</td>\n",
       "      <td>1</td>\n",
       "      <td>Yes</td>\n",
       "      <td>Private</td>\n",
       "      <td>Urban</td>\n",
       "      <td>228.69</td>\n",
       "      <td>36.6</td>\n",
       "      <td>formerly smoked</td>\n",
       "    </tr>\n",
       "    <tr>\n",
       "      <th>51676</th>\n",
       "      <td>Female</td>\n",
       "      <td>61.0</td>\n",
       "      <td>0</td>\n",
       "      <td>0</td>\n",
       "      <td>Yes</td>\n",
       "      <td>Self-employed</td>\n",
       "      <td>Rural</td>\n",
       "      <td>202.21</td>\n",
       "      <td>NaN</td>\n",
       "      <td>never smoked</td>\n",
       "    </tr>\n",
       "    <tr>\n",
       "      <th>31112</th>\n",
       "      <td>Male</td>\n",
       "      <td>80.0</td>\n",
       "      <td>0</td>\n",
       "      <td>1</td>\n",
       "      <td>Yes</td>\n",
       "      <td>Private</td>\n",
       "      <td>Rural</td>\n",
       "      <td>105.92</td>\n",
       "      <td>32.5</td>\n",
       "      <td>never smoked</td>\n",
       "    </tr>\n",
       "    <tr>\n",
       "      <th>60182</th>\n",
       "      <td>Female</td>\n",
       "      <td>49.0</td>\n",
       "      <td>0</td>\n",
       "      <td>0</td>\n",
       "      <td>Yes</td>\n",
       "      <td>Private</td>\n",
       "      <td>Urban</td>\n",
       "      <td>171.23</td>\n",
       "      <td>34.4</td>\n",
       "      <td>smokes</td>\n",
       "    </tr>\n",
       "    <tr>\n",
       "      <th>1665</th>\n",
       "      <td>Female</td>\n",
       "      <td>79.0</td>\n",
       "      <td>1</td>\n",
       "      <td>0</td>\n",
       "      <td>Yes</td>\n",
       "      <td>Self-employed</td>\n",
       "      <td>Rural</td>\n",
       "      <td>174.12</td>\n",
       "      <td>24.0</td>\n",
       "      <td>never smoked</td>\n",
       "    </tr>\n",
       "  </tbody>\n",
       "</table>\n",
       "</div>"
      ],
      "text/plain": [
       "       gender   age  hypertension  heart_disease ever_married      work_type  \\\n",
       "id                                                                             \n",
       "9046     Male  67.0             0              1          Yes        Private   \n",
       "51676  Female  61.0             0              0          Yes  Self-employed   \n",
       "31112    Male  80.0             0              1          Yes        Private   \n",
       "60182  Female  49.0             0              0          Yes        Private   \n",
       "1665   Female  79.0             1              0          Yes  Self-employed   \n",
       "\n",
       "      Residence_type  avg_glucose_level   bmi   smoking_status  \n",
       "id                                                              \n",
       "9046           Urban             228.69  36.6  formerly smoked  \n",
       "51676          Rural             202.21   NaN     never smoked  \n",
       "31112          Rural             105.92  32.5     never smoked  \n",
       "60182          Urban             171.23  34.4           smokes  \n",
       "1665           Rural             174.12  24.0     never smoked  "
      ]
     },
     "execution_count": 1,
     "metadata": {},
     "output_type": "execute_result"
    }
   ],
   "source": [
    "import numpy as np\n",
    "import pandas as pd\n",
    "import matplotlib.pyplot as plt\n",
    "import seaborn as sns\n",
    "from sklearn.model_selection import KFold\n",
    "from sklearn.model_selection import cross_val_score\n",
    "from sklearn.model_selection import train_test_split\n",
    "from sklearn.metrics import roc_auc_score\n",
    "from sklearn.metrics import precision_recall_curve\n",
    "from sklearn.preprocessing import StandardScaler\n",
    "from sklearn import tree\n",
    "from sklearn.model_selection import GridSearchCV\n",
    "from sklearn.linear_model import LogisticRegression\n",
    "from sklearn.svm import SVC\n",
    "from sklearn.tree import DecisionTreeClassifier\n",
    "from sklearn.neighbors import KNeighborsClassifier\n",
    "from sklearn.naive_bayes import GaussianNB\n",
    "from sklearn.ensemble import RandomForestClassifier\n",
    "\n",
    "# Original dataset\n",
    "df_orig = pd.read_csv('../input/stroke-prediction-dataset/healthcare-dataset-stroke-data.csv', index_col='id')\n",
    "y = df_orig['stroke'].copy()\n",
    "X_orig = df_orig.drop(columns=['stroke'], inplace=False)\n",
    "num_feat = len(X_orig.columns) \n",
    "num_obj = len(X_orig)\n",
    "# Cross-validator\n",
    "cv = KFold(n_splits=5, shuffle=True, random_state=42)\n",
    "X_orig.head()"
   ]
  },
  {
   "cell_type": "markdown",
   "id": "63848dba",
   "metadata": {
    "papermill": {
     "duration": 0.024994,
     "end_time": "2021-09-18T11:13:22.966960",
     "exception": false,
     "start_time": "2021-09-18T11:13:22.941966",
     "status": "completed"
    },
    "tags": []
   },
   "source": [
    "# Visualization of the data"
   ]
  },
  {
   "cell_type": "code",
   "execution_count": 2,
   "id": "f73007a2",
   "metadata": {
    "execution": {
     "iopub.execute_input": "2021-09-18T11:13:23.034047Z",
     "iopub.status.busy": "2021-09-18T11:13:23.019966Z",
     "iopub.status.idle": "2021-09-18T11:13:23.367863Z",
     "shell.execute_reply": "2021-09-18T11:13:23.368312Z",
     "shell.execute_reply.started": "2021-09-18T11:06:29.844894Z"
    },
    "papermill": {
     "duration": 0.377069,
     "end_time": "2021-09-18T11:13:23.368508",
     "exception": false,
     "start_time": "2021-09-18T11:13:22.991439",
     "status": "completed"
    },
    "tags": []
   },
   "outputs": [
    {
     "data": {
      "text/plain": [
       "Text(0.5, 1.0, 'Pie chart of the \"stroke\" column\\n     \"1\" $-$ patient had a stroke,\\n     \"0\" $-$ patient did not have a stroke')"
      ]
     },
     "execution_count": 2,
     "metadata": {},
     "output_type": "execute_result"
    },
    {
     "data": {
      "image/png": "[encoded data removed]",
      "text/plain": [
       "<Figure size 720x432 with 1 Axes>"
      ]
     },
     "metadata": {},
     "output_type": "display_data"
    }
   ],
   "source": [
    "# Stroke pie chart\n",
    "plt.figure(figsize=(10, 6))\n",
    "plt.pie(y.value_counts(), labels=['1', '0'], autopct='%.1f%%', shadow=True, explode=(0, 0.3));  \n",
    "plt.title('Pie chart of the \"stroke\" column\\n \\\n",
    "    \"1\" $-$ patient had a stroke,\\n \\\n",
    "    \"0\" $-$ patient did not have a stroke')"
   ]
  },
  {
   "cell_type": "code",
   "execution_count": 3,
   "id": "b6ec6c13",
   "metadata": {
    "execution": {
     "iopub.execute_input": "2021-09-18T11:13:23.419195Z",
     "iopub.status.busy": "2021-09-18T11:13:23.418388Z",
     "iopub.status.idle": "2021-09-18T11:13:23.849214Z",
     "shell.execute_reply": "2021-09-18T11:13:23.849774Z",
     "shell.execute_reply.started": "2021-09-18T11:06:30.118873Z"
    },
    "papermill": {
     "duration": 0.45782,
     "end_time": "2021-09-18T11:13:23.849948",
     "exception": false,
     "start_time": "2021-09-18T11:13:23.392128",
     "status": "completed"
    },
    "tags": []
   },
   "outputs": [
    {
     "data": {
      "image/png": "[encoded data removed]",
      "text/plain": [
       "<Figure size 504x360 with 1 Axes>"
      ]
     },
     "metadata": {
      "needs_background": "light"
     },
     "output_type": "display_data"
    }
   ],
   "source": [
    "# Stroke от age\n",
    "plt.figure(figsize=(7, 5))\n",
    "age_stroke = X_orig['age'].loc[y==1]\n",
    "sns.histplot(x=age_stroke, bins=40, kde=True)\n",
    "plt.xlabel('Age, years')\n",
    "plt.ylabel('Number of strokes')\n",
    "plt.grid()"
   ]
  },
  {
   "cell_type": "code",
   "execution_count": 4,
   "id": "657e5b6c",
   "metadata": {
    "execution": {
     "iopub.execute_input": "2021-09-18T11:13:23.909252Z",
     "iopub.status.busy": "2021-09-18T11:13:23.902747Z",
     "iopub.status.idle": "2021-09-18T11:13:24.194607Z",
     "shell.execute_reply": "2021-09-18T11:13:24.194078Z",
     "shell.execute_reply.started": "2021-09-18T11:06:30.414253Z"
    },
    "papermill": {
     "duration": 0.320415,
     "end_time": "2021-09-18T11:13:24.194747",
     "exception": false,
     "start_time": "2021-09-18T11:13:23.874332",
     "status": "completed"
    },
    "tags": []
   },
   "outputs": [
    {
     "data": {
      "image/png": "[encoded data removed]",
      "text/plain": [
       "<Figure size 504x360 with 1 Axes>"
      ]
     },
     "metadata": {
      "needs_background": "light"
     },
     "output_type": "display_data"
    }
   ],
   "source": [
    "# Age distribution\n",
    "plt.figure(figsize=(7, 5))\n",
    "sns.histplot(x=X_orig['age'], hue=X_orig['gender'], element='step', legend=True)\n",
    "plt.xlabel('Age, years')\n",
    "plt.ylabel('Number of people')\n",
    "plt.grid()"
   ]
  },
  {
   "cell_type": "code",
   "execution_count": 5,
   "id": "cf9921d1",
   "metadata": {
    "execution": {
     "iopub.execute_input": "2021-09-18T11:13:24.282169Z",
     "iopub.status.busy": "2021-09-18T11:13:24.257353Z",
     "iopub.status.idle": "2021-09-18T11:13:24.551962Z",
     "shell.execute_reply": "2021-09-18T11:13:24.552442Z",
     "shell.execute_reply.started": "2021-09-18T11:06:30.812068Z"
    },
    "papermill": {
     "duration": 0.33289,
     "end_time": "2021-09-18T11:13:24.552637",
     "exception": false,
     "start_time": "2021-09-18T11:13:24.219747",
     "status": "completed"
    },
    "tags": []
   },
   "outputs": [
    {
     "data": {
      "image/png": "[encoded data removed]",
      "text/plain": [
       "<Figure size 504x360 with 1 Axes>"
      ]
     },
     "metadata": {
      "needs_background": "light"
     },
     "output_type": "display_data"
    }
   ],
   "source": [
    "age_stroke = X_orig['age'].loc[y==1]\n",
    "fig, ax = plt.subplots(figsize=(7, 5))\n",
    "sns.histplot(x=X_orig['age'], ax=ax, stat='density', kde=True, element='step')\n",
    "sns.histplot(x=age_stroke, ax=ax, bins=20, stat='density', kde=True, element='step', color='g')\n",
    "ax.set_xlabel('age, years')\n",
    "ax.grid()"
   ]
  },
  {
   "cell_type": "code",
   "execution_count": 6,
   "id": "21ea4731",
   "metadata": {
    "execution": {
     "iopub.execute_input": "2021-09-18T11:13:24.634972Z",
     "iopub.status.busy": "2021-09-18T11:13:24.613091Z",
     "iopub.status.idle": "2021-09-18T11:13:25.422476Z",
     "shell.execute_reply": "2021-09-18T11:13:25.423146Z",
     "shell.execute_reply.started": "2021-09-18T11:06:31.089361Z"
    },
    "papermill": {
     "duration": 0.844556,
     "end_time": "2021-09-18T11:13:25.423352",
     "exception": false,
     "start_time": "2021-09-18T11:13:24.578796",
     "status": "completed"
    },
    "tags": []
   },
   "outputs": [
    {
     "data": {
      "image/png": "[encoded data removed]",
      "text/plain": [
       "<Figure size 1008x432 with 2 Axes>"
      ]
     },
     "metadata": {
      "needs_background": "light"
     },
     "output_type": "display_data"
    }
   ],
   "source": [
    "fig, ax = plt.subplots(1, 2, figsize=(14, 6))\n",
    "# Glucose\n",
    "sns.histplot(X_orig['avg_glucose_level'], ax=ax[0], bins=30, kde=True)\n",
    "ax[0].set_xlabel('Average glucose level in blood')\n",
    "ax[0].axvline(X_orig['avg_glucose_level'].median(), label='Median', linestyle='--', color='r', lw=3)\n",
    "ax[0].axvline(X_orig['avg_glucose_level'].mean(), label='Mean', linestyle='--', color='g', lw=3)\n",
    "ax[0].legend()\n",
    "ax[0].grid()\n",
    "# BMI\n",
    "sns.histplot(x=X_orig['bmi'], ax=ax[1], bins=30, kde=True, color='tab:orange')\n",
    "ax[1].set_xlabel('Body mass index')\n",
    "ax[1].axvline(X_orig['bmi'].median(), label='Median', linestyle='--', color='r', lw=2.5)\n",
    "ax[1].axvline(X_orig['bmi'].mean(), label='Mean', linestyle='--', color='g', lw=2.5)\n",
    "ax[1].legend()\n",
    "ax[1].grid()\n"
   ]
  },
  {
   "cell_type": "code",
   "execution_count": 7,
   "id": "c6d61741",
   "metadata": {
    "execution": {
     "iopub.execute_input": "2021-09-18T11:13:25.492198Z",
     "iopub.status.busy": "2021-09-18T11:13:25.483323Z",
     "iopub.status.idle": "2021-09-18T11:13:25.729797Z",
     "shell.execute_reply": "2021-09-18T11:13:25.729103Z",
     "shell.execute_reply.started": "2021-09-18T11:06:31.794168Z"
    },
    "papermill": {
     "duration": 0.278421,
     "end_time": "2021-09-18T11:13:25.729954",
     "exception": false,
     "start_time": "2021-09-18T11:13:25.451533",
     "status": "completed"
    },
    "tags": []
   },
   "outputs": [
    {
     "data": {
      "text/plain": [
       "Text(0, 0.5, 'Smoking status')"
      ]
     },
     "execution_count": 7,
     "metadata": {},
     "output_type": "execute_result"
    },
    {
     "data": {
      "image/png": "[encoded data removed]",
      "text/plain": [
       "<Figure size 720x432 with 1 Axes>"
      ]
     },
     "metadata": {
      "needs_background": "light"
     },
     "output_type": "display_data"
    }
   ],
   "source": [
    "# Smoking status\n",
    "plt.figure(figsize=(10, 6))\n",
    "sns.countplot(y=X_orig['smoking_status'])\n",
    "plt.ylabel('Smoking status')"
   ]
  },
  {
   "cell_type": "code",
   "execution_count": 8,
   "id": "04e5db82",
   "metadata": {
    "execution": {
     "iopub.execute_input": "2021-09-18T11:13:25.839703Z",
     "iopub.status.busy": "2021-09-18T11:13:25.822484Z",
     "iopub.status.idle": "2021-09-18T11:13:26.098827Z",
     "shell.execute_reply": "2021-09-18T11:13:26.098138Z",
     "shell.execute_reply.started": "2021-09-18T11:06:32.002789Z"
    },
    "papermill": {
     "duration": 0.339594,
     "end_time": "2021-09-18T11:13:26.098972",
     "exception": false,
     "start_time": "2021-09-18T11:13:25.759378",
     "status": "completed"
    },
    "tags": []
   },
   "outputs": [
    {
     "data": {
      "text/plain": [
       "Text(0.5, 1.0, '\"1\" $-$ patient has hypertension,\\n     \"0\" $-$ patient does not have hypertension')"
      ]
     },
     "execution_count": 8,
     "metadata": {},
     "output_type": "execute_result"
    },
    {
     "data": {
      "image/png": "[encoded data removed]",
      "text/plain": [
       "<Figure size 720x432 with 2 Axes>"
      ]
     },
     "metadata": {},
     "output_type": "display_data"
    }
   ],
   "source": [
    "fig, ax  = plt.subplots(1, 2, figsize=(10, 6))\n",
    "ax[0].pie(X_orig['heart_disease'].value_counts(), labels=['1', '0'], autopct='%.1f%%', shadow=True, explode=(0, 0.3));  \n",
    "ax[0].set_title('\"1\" $-$ patient has a heart disease,\\n \\\n",
    "    \"0\" $-$ patient does not have any heart diseases')\n",
    "ax[1].pie(X_orig['hypertension'].value_counts(), labels=['1', '0'], autopct='%.1f%%', shadow=True, explode=(0, 0.3));  \n",
    "ax[1].set_title('\"1\" $-$ patient has hypertension,\\n \\\n",
    "    \"0\" $-$ patient does not have hypertension')\n"
   ]
  },
  {
   "cell_type": "markdown",
   "id": "a829cc94",
   "metadata": {
    "papermill": {
     "duration": 0.030867,
     "end_time": "2021-09-18T11:13:26.160613",
     "exception": false,
     "start_time": "2021-09-18T11:13:26.129746",
     "status": "completed"
    },
    "tags": []
   },
   "source": [
    "# Feature engineering"
   ]
  },
  {
   "cell_type": "code",
   "execution_count": 9,
   "id": "64ad6dfa",
   "metadata": {
    "execution": {
     "iopub.execute_input": "2021-09-18T11:13:26.238695Z",
     "iopub.status.busy": "2021-09-18T11:13:26.225648Z",
     "iopub.status.idle": "2021-09-18T11:13:26.271980Z",
     "shell.execute_reply": "2021-09-18T11:13:26.271377Z",
     "shell.execute_reply.started": "2021-09-18T11:06:32.241553Z"
    },
    "papermill": {
     "duration": 0.080872,
     "end_time": "2021-09-18T11:13:26.272137",
     "exception": false,
     "start_time": "2021-09-18T11:13:26.191265",
     "status": "completed"
    },
    "tags": []
   },
   "outputs": [],
   "source": [
    "def ohe(df, features):\n",
    "    \"\"\"\n",
    "    one-hot enccoder.\n",
    "    df -- input DataFrame\n",
    "    features -- list of features to be encoded\n",
    "\n",
    "    One can easily use sklearn.preprocessing.OneHotEncoder instead\n",
    "    \"\"\"\n",
    "    for feat in features:\n",
    "        categ_list = df[feat].unique()\n",
    "        df_enc = np.zeros((df.shape[0], len(categ_list)))\n",
    "        for ii in range(len(categ_list)):\n",
    "            df_enc[:, ii] = (df[feat]==categ_list[ii]).astype(int) \n",
    "\n",
    "        df_enc = pd.DataFrame(data=df_enc, index=df.index, columns=categ_list)\n",
    "        df = pd.concat([df, df_enc], axis=1)\n",
    "    return df\n",
    "\n",
    "X_prep = X_orig.copy()\n",
    "# Encode categorial features\n",
    "# Male - 1, Female - 0\n",
    "X_prep['gender'] = X_prep['gender'].map({'Male': 1, 'Female': 0, 'Other': 1})\n",
    "# urban - 1, rural - 0\n",
    "X_prep['Residence_type'] = X_prep['Residence_type'].map({'Urban': 1, 'Rural': 0})\n",
    "# ever_married yes - 1, no - 0\n",
    "X_prep['ever_married'] = X_prep['ever_married'].map({'Yes': 1, 'No': 0})\n",
    "# One-hot encoder for work_type, smoking_status\n",
    "X_prep = ohe(X_prep, ['work_type', 'smoking_status'])\n",
    "X_prep.drop(columns=['work_type', 'smoking_status'], inplace=True)\n",
    "# Fill the NaN in BMI column\n",
    "X_prep['bmi'].fillna(X_prep['bmi'].median(), inplace=True)\n",
    "# Scaling\n",
    "scaler = StandardScaler()\n",
    "X_prep = pd.DataFrame(data=scaler.fit_transform(X_prep), index=X_prep.index, columns=X_prep.columns)"
   ]
  },
  {
   "cell_type": "markdown",
   "id": "443a441f",
   "metadata": {
    "papermill": {
     "duration": 0.030465,
     "end_time": "2021-09-18T11:13:26.334237",
     "exception": false,
     "start_time": "2021-09-18T11:13:26.303772",
     "status": "completed"
    },
    "tags": []
   },
   "source": [
    "# 1) Logistic regression"
   ]
  },
  {
   "cell_type": "code",
   "execution_count": 10,
   "id": "cbd63519",
   "metadata": {
    "execution": {
     "iopub.execute_input": "2021-09-18T11:13:26.405089Z",
     "iopub.status.busy": "2021-09-18T11:13:26.404240Z",
     "iopub.status.idle": "2021-09-18T11:13:27.133815Z",
     "shell.execute_reply": "2021-09-18T11:13:27.135198Z",
     "shell.execute_reply.started": "2021-09-18T11:06:32.275194Z"
    },
    "papermill": {
     "duration": 0.769592,
     "end_time": "2021-09-18T11:13:27.135528",
     "exception": false,
     "start_time": "2021-09-18T11:13:26.365936",
     "status": "completed"
    },
    "tags": []
   },
   "outputs": [
    {
     "name": "stdout",
     "output_type": "stream",
     "text": [
      "Cross-validation score: 0.833875\n",
      "Cross-validation score: 0.841803\n",
      "Cross-validation score: 0.841932\n"
     ]
    }
   ],
   "source": [
    "C_regul = [0.01, 0.1, 1]\n",
    "for regul in C_regul:\n",
    "    clf = LogisticRegression(penalty='l2', C=regul).fit(X_prep, y)\n",
    "    print('Cross-validation score: %f' % \n",
    "          cross_val_score(clf, X_prep, y, cv=cv, scoring='roc_auc').mean())"
   ]
  },
  {
   "cell_type": "markdown",
   "id": "74febd40",
   "metadata": {
    "papermill": {
     "duration": 0.054029,
     "end_time": "2021-09-18T11:13:27.246286",
     "exception": false,
     "start_time": "2021-09-18T11:13:27.192257",
     "status": "completed"
    },
    "tags": []
   },
   "source": [
    "# 2) Support Vector Machine (SVM)"
   ]
  },
  {
   "cell_type": "code",
   "execution_count": 11,
   "id": "1c687b64",
   "metadata": {
    "execution": {
     "iopub.execute_input": "2021-09-18T11:13:27.320518Z",
     "iopub.status.busy": "2021-09-18T11:13:27.319485Z",
     "iopub.status.idle": "2021-09-18T11:14:30.945198Z",
     "shell.execute_reply": "2021-09-18T11:14:30.944476Z",
     "shell.execute_reply.started": "2021-09-18T11:06:32.921297Z"
    },
    "papermill": {
     "duration": 63.667533,
     "end_time": "2021-09-18T11:14:30.945348",
     "exception": false,
     "start_time": "2021-09-18T11:13:27.277815",
     "status": "completed"
    },
    "tags": []
   },
   "outputs": [
    {
     "name": "stdout",
     "output_type": "stream",
     "text": [
      "linear {'C': 0.0001} 0.6285422148269171\n",
      "poly {'C': 0.01, 'coef0': 3, 'gamma': 0.01} 0.6550147406251776\n",
      "rbf {'C': 0.1, 'gamma': 0.01} 0.6689879758330584\n",
      "sigmoid {'C': 0.01, 'coef0': 10, 'gamma': 0.01} 0.8021771728890477\n",
      "Best parameters: kernel = sigmoid, C = 0.010000, coef0 = 10.000000, gamma = 0.010000\n"
     ]
    }
   ],
   "source": [
    "# Find the best value for C regularization parameter\n",
    "grid_linear = {'C': [0.0001]}\n",
    "grid_poly = {'C': [0.01, 0.1, 1], 'gamma': [0.001, 0.01, 0.1], 'coef0': [3, 4]}\n",
    "grid_rbf = {'C': [0.1, 1], 'gamma': [0.001, 0.01, 0.1]}\n",
    "grid_sigmoid = {'C': [0.001, 0.01, 0.1], 'gamma': [0.0001, 0.01], 'coef0': [1, 10]}\n",
    "grids = [grid_linear, grid_poly, grid_rbf, grid_sigmoid]\n",
    "kernels = ['linear', 'poly', 'rbf', 'sigmoid']\n",
    "params = []\n",
    "scores = []\n",
    "for ind, kern in enumerate(kernels):\n",
    "    svc_clf = SVC(kernel=kern)\n",
    "    gs = GridSearchCV(estimator=svc_clf, param_grid=grids[ind], cv=cv, scoring='roc_auc')\n",
    "    gs.fit(X_prep, y)\n",
    "    params.append(gs.best_params_)\n",
    "    scores.append(gs.best_score_)\n",
    "    print(kern, gs.best_params_, gs.best_score_)\n",
    "params_best = params[np.argmax(scores)]\n",
    "kern_best = kernels[np.argmax(scores)]\n",
    "print('Best parameters: kernel = %s, C = %f, coef0 = %f, gamma = %f' % \n",
    "      (kern_best, params_best['C'], params_best['coef0'], params_best['gamma']))"
   ]
  },
  {
   "cell_type": "code",
   "execution_count": 12,
   "id": "aef85e3d",
   "metadata": {
    "execution": {
     "iopub.execute_input": "2021-09-18T11:14:31.021269Z",
     "iopub.status.busy": "2021-09-18T11:14:31.020542Z",
     "iopub.status.idle": "2021-09-18T11:14:31.862772Z",
     "shell.execute_reply": "2021-09-18T11:14:31.862233Z",
     "shell.execute_reply.started": "2021-09-18T11:07:35.856062Z"
    },
    "papermill": {
     "duration": 0.883713,
     "end_time": "2021-09-18T11:14:31.862918",
     "exception": false,
     "start_time": "2021-09-18T11:14:30.979205",
     "status": "completed"
    },
    "tags": []
   },
   "outputs": [
    {
     "name": "stdout",
     "output_type": "stream",
     "text": [
      "Cross-validation score: 0.802177\n"
     ]
    }
   ],
   "source": [
    "clf_svm = SVC(C=params_best['C'], \n",
    "              kernel=kern_best, \n",
    "              coef0=params_best['coef0'], \n",
    "              gamma=params_best['gamma']).fit(X_prep, y)\n",
    "print('Cross-validation score: %f' % \n",
    "          cross_val_score(clf_svm, X_prep, y, cv=cv, scoring='roc_auc').mean())"
   ]
  },
  {
   "cell_type": "markdown",
   "id": "669259df",
   "metadata": {
    "papermill": {
     "duration": 0.032584,
     "end_time": "2021-09-18T11:14:31.928423",
     "exception": false,
     "start_time": "2021-09-18T11:14:31.895839",
     "status": "completed"
    },
    "tags": []
   },
   "source": [
    "# 3) Decision tree"
   ]
  },
  {
   "cell_type": "code",
   "execution_count": 13,
   "id": "1c06ce80",
   "metadata": {
    "execution": {
     "iopub.execute_input": "2021-09-18T11:14:32.003169Z",
     "iopub.status.busy": "2021-09-18T11:14:32.002413Z",
     "iopub.status.idle": "2021-09-18T11:14:32.027635Z",
     "shell.execute_reply": "2021-09-18T11:14:32.027021Z",
     "shell.execute_reply.started": "2021-09-18T11:07:36.695051Z"
    },
    "papermill": {
     "duration": 0.066158,
     "end_time": "2021-09-18T11:14:32.027785",
     "exception": false,
     "start_time": "2021-09-18T11:14:31.961627",
     "status": "completed"
    },
    "tags": []
   },
   "outputs": [],
   "source": [
    "X_tree = X_orig.copy()\n",
    "# Encode categorial features\n",
    "# Male - 1, Female - 0\n",
    "X_tree['gender'] = X_tree['gender'].map({'Male': 1, 'Female': 0, 'Other': 1})\n",
    "# urban - 1, rural - 0\n",
    "X_tree['Residence_type'] = X_tree['Residence_type'].map({'Urban': 1, 'Rural': 0})\n",
    "# ever_married yes - 1, no - 0\n",
    "X_tree['ever_married'] = X_tree['ever_married'].map({'Yes': 1, 'No': 0})\n",
    "# One-hot encoder for work_type, smoking_status\n",
    "X_tree = ohe(X_tree, ['work_type', 'smoking_status'])\n",
    "X_tree.drop(columns=['work_type', 'smoking_status'], inplace=True)\n",
    "# Fill the NaN in BMI column\n",
    "X_tree['bmi'].fillna(X_tree['bmi'].median(), inplace=True)\n",
    "# We do not need to scale our data for decision tree algorithm"
   ]
  },
  {
   "cell_type": "code",
   "execution_count": 14,
   "id": "91c139ca",
   "metadata": {
    "execution": {
     "iopub.execute_input": "2021-09-18T11:14:32.101514Z",
     "iopub.status.busy": "2021-09-18T11:14:32.100853Z",
     "iopub.status.idle": "2021-09-18T11:14:32.236976Z",
     "shell.execute_reply": "2021-09-18T11:14:32.236058Z",
     "shell.execute_reply.started": "2021-09-18T11:07:36.722747Z"
    },
    "papermill": {
     "duration": 0.176203,
     "end_time": "2021-09-18T11:14:32.237177",
     "exception": false,
     "start_time": "2021-09-18T11:14:32.060974",
     "status": "completed"
    },
    "tags": []
   },
   "outputs": [
    {
     "name": "stdout",
     "output_type": "stream",
     "text": [
      "Cross-validation score: 0.822071\n"
     ]
    }
   ],
   "source": [
    "clf_tree = DecisionTreeClassifier(criterion='entropy', ccp_alpha=0.003)\n",
    "clf_tree.fit(X_tree, y)\n",
    "print('Cross-validation score: %f' % cross_val_score(clf_tree, X_tree, y, cv=cv, scoring='roc_auc').mean())"
   ]
  },
  {
   "cell_type": "markdown",
   "id": "f91c7b64",
   "metadata": {
    "papermill": {
     "duration": 0.033146,
     "end_time": "2021-09-18T11:14:32.304884",
     "exception": false,
     "start_time": "2021-09-18T11:14:32.271738",
     "status": "completed"
    },
    "tags": []
   },
   "source": [
    "# 4) K-Nearest Neighbours"
   ]
  },
  {
   "cell_type": "code",
   "execution_count": 15,
   "id": "c7262ccc",
   "metadata": {
    "execution": {
     "iopub.execute_input": "2021-09-18T11:14:32.380358Z",
     "iopub.status.busy": "2021-09-18T11:14:32.379292Z",
     "iopub.status.idle": "2021-09-18T11:15:52.617671Z",
     "shell.execute_reply": "2021-09-18T11:15:52.618192Z",
     "shell.execute_reply.started": "2021-09-18T11:07:36.859129Z"
    },
    "papermill": {
     "duration": 80.280124,
     "end_time": "2021-09-18T11:15:52.618371",
     "exception": false,
     "start_time": "2021-09-18T11:14:32.338247",
     "status": "completed"
    },
    "tags": []
   },
   "outputs": [
    {
     "name": "stdout",
     "output_type": "stream",
     "text": [
      "Best parameters: n_neighbors = 100, p = 1\n"
     ]
    }
   ],
   "source": [
    "# Find the best parameters\n",
    "# Actually, KNN is quite bad with highly unbalanced classes.\n",
    "# One should use some oversampling technique first, e.g. SMOTE (TODO)\n",
    "grid = {'n_neighbors': [50, 75, 100], 'p': [1, 3, 5]}\n",
    "\n",
    "clf_knn = KNeighborsClassifier(weights='distance', metric='minkowski')\n",
    "gs = GridSearchCV(estimator=clf_knn, param_grid=grid, cv=cv, scoring='roc_auc')\n",
    "gs.fit(X_prep, y)\n",
    "print('Best parameters: n_neighbors = %d, p = %d' % (gs.best_params_['n_neighbors'], gs.best_params_['p']))"
   ]
  },
  {
   "cell_type": "code",
   "execution_count": 16,
   "id": "286aa181",
   "metadata": {
    "execution": {
     "iopub.execute_input": "2021-09-18T11:15:52.693909Z",
     "iopub.status.busy": "2021-09-18T11:15:52.693129Z",
     "iopub.status.idle": "2021-09-18T11:15:53.767458Z",
     "shell.execute_reply": "2021-09-18T11:15:53.766686Z",
     "shell.execute_reply.started": "2021-09-18T11:08:56.580027Z"
    },
    "papermill": {
     "duration": 1.115442,
     "end_time": "2021-09-18T11:15:53.767676",
     "exception": false,
     "start_time": "2021-09-18T11:15:52.652234",
     "status": "completed"
    },
    "tags": []
   },
   "outputs": [
    {
     "name": "stdout",
     "output_type": "stream",
     "text": [
      "Cross-validation score: 0.773799\n"
     ]
    }
   ],
   "source": [
    "# Use the best parameters in the model\n",
    "clf_knn = KNeighborsClassifier(weights='distance', metric='minkowski', \n",
    "                               n_neighbors=gs.best_params_['n_neighbors'], \n",
    "                               p=gs.best_params_['p'])\n",
    "print('Cross-validation score: %f' % cross_val_score(clf_knn, X_prep, y, cv=cv, scoring='roc_auc').mean())"
   ]
  },
  {
   "cell_type": "markdown",
   "id": "96e6cf2b",
   "metadata": {
    "papermill": {
     "duration": 0.033479,
     "end_time": "2021-09-18T11:15:53.836202",
     "exception": false,
     "start_time": "2021-09-18T11:15:53.802723",
     "status": "completed"
    },
    "tags": []
   },
   "source": [
    "# 5) Naive Bayes"
   ]
  },
  {
   "cell_type": "code",
   "execution_count": 17,
   "id": "f96308b2",
   "metadata": {
    "execution": {
     "iopub.execute_input": "2021-09-18T11:15:53.911228Z",
     "iopub.status.busy": "2021-09-18T11:15:53.910563Z",
     "iopub.status.idle": "2021-09-18T11:15:53.954818Z",
     "shell.execute_reply": "2021-09-18T11:15:53.954174Z",
     "shell.execute_reply.started": "2021-09-18T11:08:57.677822Z"
    },
    "papermill": {
     "duration": 0.084896,
     "end_time": "2021-09-18T11:15:53.954956",
     "exception": false,
     "start_time": "2021-09-18T11:15:53.870060",
     "status": "completed"
    },
    "tags": []
   },
   "outputs": [
    {
     "name": "stdout",
     "output_type": "stream",
     "text": [
      "Cross-validation score: 0.800305\n"
     ]
    }
   ],
   "source": [
    "clf_bayes = GaussianNB().fit(X_prep, y)\n",
    "print('Cross-validation score: %f' % cross_val_score(clf_bayes, X_prep, y, cv=cv, scoring='roc_auc').mean())"
   ]
  },
  {
   "cell_type": "markdown",
   "id": "5ab6b37f",
   "metadata": {
    "papermill": {
     "duration": 0.033979,
     "end_time": "2021-09-18T11:15:54.023642",
     "exception": false,
     "start_time": "2021-09-18T11:15:53.989663",
     "status": "completed"
    },
    "tags": []
   },
   "source": [
    "# 6) Random Forest"
   ]
  },
  {
   "cell_type": "code",
   "execution_count": 18,
   "id": "4831aa0f",
   "metadata": {
    "execution": {
     "iopub.execute_input": "2021-09-18T11:15:54.096513Z",
     "iopub.status.busy": "2021-09-18T11:15:54.095840Z",
     "iopub.status.idle": "2021-09-18T11:15:54.124511Z",
     "shell.execute_reply": "2021-09-18T11:15:54.125066Z",
     "shell.execute_reply.started": "2021-09-18T11:08:57.724538Z"
    },
    "papermill": {
     "duration": 0.066218,
     "end_time": "2021-09-18T11:15:54.125240",
     "exception": false,
     "start_time": "2021-09-18T11:15:54.059022",
     "status": "completed"
    },
    "tags": []
   },
   "outputs": [],
   "source": [
    "X_forest = X_orig.copy()\n",
    "# Encode categorial features\n",
    "# Male - 1, Female - 0\n",
    "X_forest['gender'] = X_forest['gender'].map({'Male': 1, 'Female': 0, 'Other': 1})\n",
    "# urban - 1, rural - 0\n",
    "X_forest['Residence_type'] = X_forest['Residence_type'].map({'Urban': 1, 'Rural': 0})\n",
    "# ever_married yes - 1, no - 0\n",
    "X_forest['ever_married'] = X_forest['ever_married'].map({'Yes': 1, 'No': 0})\n",
    "# One-hot encoder for work_type, smoking_status\n",
    "X_forest = ohe(X_forest, ['work_type', 'smoking_status'])\n",
    "X_forest.drop(columns=['work_type', 'smoking_status'], inplace=True)\n",
    "# Fill the NaN in BMI column\n",
    "X_forest['bmi'].fillna(X_forest['bmi'].median(), inplace=True)"
   ]
  },
  {
   "cell_type": "code",
   "execution_count": 19,
   "id": "f0a8d0b0",
   "metadata": {
    "execution": {
     "iopub.execute_input": "2021-09-18T11:15:54.196688Z",
     "iopub.status.busy": "2021-09-18T11:15:54.196076Z",
     "iopub.status.idle": "2021-09-18T11:17:00.102770Z",
     "shell.execute_reply": "2021-09-18T11:17:00.103289Z",
     "shell.execute_reply.started": "2021-09-18T11:08:57.750802Z"
    },
    "papermill": {
     "duration": 65.944238,
     "end_time": "2021-09-18T11:17:00.103470",
     "exception": false,
     "start_time": "2021-09-18T11:15:54.159232",
     "status": "completed"
    },
    "tags": []
   },
   "outputs": [
    {
     "name": "stdout",
     "output_type": "stream",
     "text": [
      "Best parameters: n_estimators = 100, ccp_alpha = 0.000000, max_depth = 5\n"
     ]
    }
   ],
   "source": [
    "# Find the best parameters\n",
    "grid = {'n_estimators': [20, 50, 100, 200], 'ccp_alpha': [0.0, 0.01, 0.1], 'max_depth': [4, 5, 6]}\n",
    "clf_forest = RandomForestClassifier(criterion='entropy',\n",
    "                    max_features='auto')\n",
    "gs = GridSearchCV(clf_forest, param_grid=grid, cv=cv, scoring='roc_auc')\n",
    "gs.fit(X_forest, y)\n",
    "print('Best parameters: n_estimators = %d, ccp_alpha = %f, max_depth = %d' % \n",
    "      (gs.best_params_['n_estimators'], gs.best_params_['ccp_alpha'], gs.best_params_['max_depth']))"
   ]
  },
  {
   "cell_type": "code",
   "execution_count": 20,
   "id": "d14c18c0",
   "metadata": {
    "execution": {
     "iopub.execute_input": "2021-09-18T11:17:00.181258Z",
     "iopub.status.busy": "2021-09-18T11:17:00.180234Z",
     "iopub.status.idle": "2021-09-18T11:17:02.165986Z",
     "shell.execute_reply": "2021-09-18T11:17:02.166433Z",
     "shell.execute_reply.started": "2021-09-18T11:09:52.704701Z"
    },
    "papermill": {
     "duration": 2.028627,
     "end_time": "2021-09-18T11:17:02.166644",
     "exception": false,
     "start_time": "2021-09-18T11:17:00.138017",
     "status": "completed"
    },
    "tags": []
   },
   "outputs": [
    {
     "name": "stdout",
     "output_type": "stream",
     "text": [
      "Cross-validation score: 0.843071\n"
     ]
    }
   ],
   "source": [
    "# Use the best parameters in the model\n",
    "clf_forest = RandomForestClassifier(criterion='entropy', max_features='auto',\n",
    "                                   n_estimators=gs.best_params_['n_estimators'],\n",
    "                                   ccp_alpha=gs.best_params_['ccp_alpha'],\n",
    "                                   max_depth=gs.best_params_['max_depth'])\n",
    "print('Cross-validation score: %f' % cross_val_score(clf_forest, X_forest, y, cv=cv, scoring='roc_auc').mean())"
   ]
  }
 ],
 "metadata": {
  "kernelspec": {
   "display_name": "Python 3",
   "language": "python",
   "name": "python3"
  },
  "language_info": {
   "codemirror_mode": {
    "name": "ipython",
    "version": 3
   },
   "file_extension": ".py",
   "mimetype": "text/x-python",
   "name": "python",
   "nbconvert_exporter": "python",
   "pygments_lexer": "ipython3",
   "version": "3.7.10"
  },
  "papermill": {
   "default_parameters": {},
   "duration": 229.729659,
   "end_time": "2021-09-18T11:17:02.911992",
   "environment_variables": {},
   "exception": null,
   "input_path": "__notebook__.ipynb",
   "output_path": "__notebook__.ipynb",
   "parameters": {},
   "start_time": "2021-09-18T11:13:13.182333",
   "version": "2.3.3"
  }
 },
 "nbformat": 4,
 "nbformat_minor": 5
}
