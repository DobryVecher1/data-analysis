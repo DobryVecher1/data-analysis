{
 "metadata": {
  "language_info": {
   "codemirror_mode": {
    "name": "ipython",
    "version": 3
   },
   "file_extension": ".py",
   "mimetype": "text/x-python",
   "name": "python",
   "nbconvert_exporter": "python",
   "pygments_lexer": "ipython3",
   "version": "3.9.5"
  },
  "orig_nbformat": 4,
  "kernelspec": {
   "name": "python3",
   "display_name": "Python 3.9.5 64-bit"
  },
  "interpreter": {
   "hash": "3fa3a2a7590b3915ab17662d71834416bd3a1b2d99481e19a256b8ec08b40195"
  }
 },
 "nbformat": 4,
 "nbformat_minor": 2,
 "cells": [
  {
   "source": [
    "### Classification problem for Titanic dataset. \n",
    "The goal is to predict whether the passenger survived or not"
   ],
   "cell_type": "markdown",
   "metadata": {}
  },
  {
   "cell_type": "code",
   "execution_count": 1,
   "metadata": {},
   "outputs": [
    {
     "output_type": "stream",
     "name": "stdout",
     "text": [
      "The most impornant features is  Fare  and  Sex\n"
     ]
    }
   ],
   "source": [
    "import numpy as np \n",
    "import pandas as pd\n",
    "from sklearn.tree import DecisionTreeClassifier\n",
    "\n",
    "full_data = pd.read_csv('titanic_data.csv')\n",
    "# We will use only \"Survived\", \"Pclass\", \"Fare\", \"Sex\" and \"Age\" columns\n",
    "data_set = full_data[['Survived', 'Pclass', 'Fare', 'Age', 'Sex']]\n",
    "# Delete objects with missing values\n",
    "data_set = data_set.dropna(axis=0)\n",
    "# 1- male, 0 - female\n",
    "data_set = data_set.replace('male', 1)\n",
    "data_set = data_set.replace('female', 0)\n",
    "# Decision tree accept array-like input\n",
    "data_array = data_set.to_numpy()\n",
    "x = data_array[:, 1:]\n",
    "# Variable y is 'Survived' column\n",
    "y = data_array[:, 0]\n",
    "# Train the decision tree\n",
    "clf = DecisionTreeClassifier(random_state=241)\n",
    "clf.fit(x, y)\n",
    "importances = clf.feature_importances_\n",
    "# Find two most important features\n",
    "max_1 = np.argmax(importances)\n",
    "importances[max_1] = importances[max_1]-1\n",
    "max_2 = np.argmax(importances)\n",
    "print(\"The most impornant features is \", data_set.columns[max_1+1], \" and \", data_set.columns[max_2+1])"
   ]
  },
  {
   "cell_type": "code",
   "execution_count": null,
   "metadata": {},
   "outputs": [],
   "source": []
  }
 ]
}