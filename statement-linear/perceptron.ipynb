{
 "metadata": {
  "language_info": {
   "codemirror_mode": {
    "name": "ipython",
    "version": 3
   },
   "file_extension": ".py",
   "mimetype": "text/x-python",
   "name": "python",
   "nbconvert_exporter": "python",
   "pygments_lexer": "ipython3",
   "version": "3.9.5"
  },
  "orig_nbformat": 4,
  "kernelspec": {
   "name": "python3",
   "display_name": "Python 3.9.5 64-bit"
  },
  "interpreter": {
   "hash": "3fa3a2a7590b3915ab17662d71834416bd3a1b2d99481e19a256b8ec08b40195"
  }
 },
 "nbformat": 4,
 "nbformat_minor": 2,
 "cells": [
  {
   "source": [
    "### Perceptron. Comparison of the accuracy of the model with and without scaling."
   ],
   "cell_type": "markdown",
   "metadata": {}
  },
  {
   "cell_type": "code",
   "execution_count": 7,
   "metadata": {},
   "outputs": [],
   "source": [
    "import numpy as np\n",
    "import pandas as pd\n",
    "from sklearn.linear_model import Perceptron\n",
    "from sklearn.preprocessing import StandardScaler\n",
    "from sklearn.metrics import accuracy_score\n",
    "from sklearn.preprocessing import StandardScaler\n",
    "\n",
    "# Give names to columns\n",
    "col_names = ['y_variable', 'Feature_1', 'Feature_2']\n",
    "# Extract train and test data\n",
    "data_train = pd.read_csv('perceptron-train.csv', names=col_names)\n",
    "data_test = pd.read_csv('perceptron-test.csv', names=col_names)\n",
    "# Extract train and test data\n",
    "X_train = data_train.loc[:, data_train.columns != 'y_variable']\n",
    "y_train = data_train['y_variable']\n",
    "\n",
    "X_test = data_test.loc[:, data_test.columns != 'y_variable']\n",
    "y_test = data_test['y_variable']\n",
    "# Also create a normalized versions\n",
    "scaler = StandardScaler()\n",
    "X_train_scaled = scaler.fit_transform(X_train)\n",
    "X_test_scaled = scaler.transform(X_test)"
   ]
  },
  {
   "cell_type": "code",
   "execution_count": 8,
   "metadata": {},
   "outputs": [],
   "source": [
    "def get_accuracy(X_train, y_train, X_test, y_test):\n",
    "    clf = Perceptron()\n",
    "    clf.fit(X_train, y_train)\n",
    "    predictions = clf.predict(X_test)\n",
    "    acc = accuracy_score(y_test, predictions)\n",
    "\n",
    "    return acc"
   ]
  },
  {
   "cell_type": "code",
   "execution_count": 9,
   "metadata": {},
   "outputs": [
    {
     "output_type": "stream",
     "name": "stdout",
     "text": [
      "The difference in accuracy: 0.19\n"
     ]
    }
   ],
   "source": [
    "before_scale = get_accuracy(X_train, y_train, X_test, y_test)\n",
    "after_scale = get_accuracy(X_train_scaled, y_train, X_test_scaled, y_test)\n",
    "print('The difference in accuracy: %g' % (after_scale-before_scale))"
   ]
  },
  {
   "cell_type": "code",
   "execution_count": null,
   "metadata": {},
   "outputs": [],
   "source": []
  }
 ]
}