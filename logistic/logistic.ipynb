{
 "metadata": {
  "language_info": {
   "codemirror_mode": {
    "name": "ipython",
    "version": 3
   },
   "file_extension": ".py",
   "mimetype": "text/x-python",
   "name": "python",
   "nbconvert_exporter": "python",
   "pygments_lexer": "ipython3",
   "version": "3.9.5"
  },
  "orig_nbformat": 4,
  "kernelspec": {
   "name": "python3",
   "display_name": "Python 3.9.5 64-bit"
  },
  "interpreter": {
   "hash": "3fa3a2a7590b3915ab17662d71834416bd3a1b2d99481e19a256b8ec08b40195"
  }
 },
 "nbformat": 4,
 "nbformat_minor": 2,
 "cells": [
  {
   "source": [
    "### Binary classification with logistic function. Using of gradient descent for obtaining weights"
   ],
   "cell_type": "markdown",
   "metadata": {}
  },
  {
   "cell_type": "code",
   "execution_count": 1,
   "metadata": {},
   "outputs": [],
   "source": [
    "import numpy as np\n",
    "import pandas as pd\n",
    "from sklearn.metrics import roc_auc_score\n",
    "import matplotlib.pyplot as plt\n",
    "    \n",
    "col_names = ['Target_variable', 'x_1', 'x_2']\n",
    "df = pd.read_csv('data-logistic.csv', names=col_names)\n",
    "# Target variable\n",
    "y = df['Target_variable']\n",
    "# Features\n",
    "X = df.loc[:, df.columns != 'Target_variable']"
   ]
  },
  {
   "cell_type": "code",
   "execution_count": 2,
   "metadata": {},
   "outputs": [],
   "source": [
    "def grad_descent(X, y, init_vec, c_regul):\n",
    "    \"\"\"\n",
    "    Function for gradient descent alrorithm for logistic regression\n",
    "    \"\"\"\n",
    "    # Step in gradient descent algorithm\n",
    "    grad_step = 0.1\n",
    "    # Tolerance\n",
    "    tol = 1e-5\n",
    "    # Maximum number of iterations\n",
    "    max_iter = 1e4\n",
    "    w_1 = init_vec[0]; w_2 = init_vec[1]\n",
    "    # Number of elements in vectors\n",
    "    l = len(X)\n",
    "    num_iter = 0\n",
    "    while num_iter < max_iter:\n",
    "        w_1_new = w_1 - grad_step*c_regul*w_1 \\\n",
    "            + grad_step/l*np.sum(y*X['x_1']*(1-1/(1+np.exp(-y*(w_1*X['x_1']+w_2*X['x_2'])))))\n",
    "        w_2_new = w_2 - grad_step*c_regul*w_2 \\\n",
    "            + grad_step/l*np.sum(y*X['x_2']*(1-1/(1+np.exp(-y*(w_1*X['x_1']+w_2*X['x_2'])))))\n",
    "        if (np.linalg.norm(w_1_new-w_1) <= tol) or (np.linalg.norm(w_2_new-w_2) <= tol):\n",
    "            w_1 = w_1_new\n",
    "            w_2 = w_2_new\n",
    "            break \n",
    "        w_1 = w_1_new\n",
    "        w_2 = w_2_new\n",
    "        num_iter += 1\n",
    "\n",
    "    return w_1, w_2"
   ]
  },
  {
   "cell_type": "code",
   "execution_count": 3,
   "metadata": {},
   "outputs": [],
   "source": [
    "# Parameter of regularization (set C = 0 to consider no regularization)\n",
    "c_regul = 10\n",
    "# Initial vector\n",
    "init_vec = [0, 0]\n",
    "# Find w with and without regularization\n",
    "w_1_reg, w_2_reg = grad_descent(X, y, init_vec, c_regul)\n",
    "w_1_noreg, w_2_noreg = grad_descent(X, y, init_vec, 0)\n",
    "# Find conditional probabilities via sigmoid function\n",
    "probs_reg = 1/(1+np.exp(-w_1_reg*X['x_1']-w_2_reg*X['x_2']))\n",
    "probs_noreg = 1/(1+np.exp(-w_1_noreg*X['x_1']-w_2_noreg*X['x_2']))"
   ]
  },
  {
   "cell_type": "code",
   "execution_count": 4,
   "metadata": {},
   "outputs": [],
   "source": [
    "# Compute AUC-ROC from prediction scores with regularization\n",
    "roc_reg = roc_auc_score(y, probs_reg)\n",
    "roc_noreg = roc_auc_score(y, probs_noreg)"
   ]
  },
  {
   "cell_type": "code",
   "execution_count": 6,
   "metadata": {},
   "outputs": [],
   "source": [
    "# # Save AUC-ROC scores to file\n",
    "# txt_file = open('answer_logistic.txt', 'w')\n",
    "# txt_file.write('%g %g' % (np.round(roc_noreg, 3), (np.round(roc_reg, 3))))\n",
    "# txt_file.close()"
   ]
  },
  {
   "cell_type": "code",
   "execution_count": null,
   "metadata": {},
   "outputs": [],
   "source": []
  }
 ]
}