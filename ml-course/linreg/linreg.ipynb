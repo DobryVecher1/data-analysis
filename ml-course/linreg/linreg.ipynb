{
 "metadata": {
  "language_info": {
   "codemirror_mode": {
    "name": "ipython",
    "version": 3
   },
   "file_extension": ".py",
   "mimetype": "text/x-python",
   "name": "python",
   "nbconvert_exporter": "python",
   "pygments_lexer": "ipython3",
   "version": "3.9.5"
  },
  "orig_nbformat": 4,
  "kernelspec": {
   "name": "python3",
   "display_name": "Python 3.9.5 64-bit"
  },
  "interpreter": {
   "hash": "3fa3a2a7590b3915ab17662d71834416bd3a1b2d99481e19a256b8ec08b40195"
  }
 },
 "nbformat": 4,
 "nbformat_minor": 2,
 "cells": [
  {
   "cell_type": "code",
   "execution_count": 1,
   "source": [
    "import numpy as np \r\n",
    "import pandas as pd \r\n",
    "from scipy.sparse import hstack\r\n",
    "from sklearn.feature_extraction.text import TfidfVectorizer\r\n",
    "from sklearn.linear_model import Ridge\r\n",
    "from sklearn.feature_extraction import DictVectorizer\r\n",
    "\r\n",
    "\r\n",
    "df_orig = pd.read_csv('salary-train.csv')\r\n",
    "# Test model\r\n",
    "df_test = pd.read_csv('salary-test-mini.csv')\r\n",
    "df_orig.head()"
   ],
   "outputs": [
    {
     "output_type": "execute_result",
     "data": {
      "text/plain": [
       "                                     FullDescription LocationNormalized  \\\n",
       "0  International Sales Manager London ****k  ****...             London   \n",
       "1  An ideal opportunity for an individual that ha...             London   \n",
       "2  Online Content and Brand Manager// Luxury Reta...  South East London   \n",
       "3  A great local marketleader is seeking a perman...            Dereham   \n",
       "4  Registered Nurse / RGN  Nursing Home for Young...   Sutton Coldfield   \n",
       "\n",
       "  ContractTime  SalaryNormalized  \n",
       "0    permanent             33000  \n",
       "1    permanent             50000  \n",
       "2    permanent             40000  \n",
       "3    permanent             22500  \n",
       "4          NaN             20355  "
      ],
      "text/html": [
       "<div>\n",
       "<style scoped>\n",
       "    .dataframe tbody tr th:only-of-type {\n",
       "        vertical-align: middle;\n",
       "    }\n",
       "\n",
       "    .dataframe tbody tr th {\n",
       "        vertical-align: top;\n",
       "    }\n",
       "\n",
       "    .dataframe thead th {\n",
       "        text-align: right;\n",
       "    }\n",
       "</style>\n",
       "<table border=\"1\" class=\"dataframe\">\n",
       "  <thead>\n",
       "    <tr style=\"text-align: right;\">\n",
       "      <th></th>\n",
       "      <th>FullDescription</th>\n",
       "      <th>LocationNormalized</th>\n",
       "      <th>ContractTime</th>\n",
       "      <th>SalaryNormalized</th>\n",
       "    </tr>\n",
       "  </thead>\n",
       "  <tbody>\n",
       "    <tr>\n",
       "      <th>0</th>\n",
       "      <td>International Sales Manager London ****k  ****...</td>\n",
       "      <td>London</td>\n",
       "      <td>permanent</td>\n",
       "      <td>33000</td>\n",
       "    </tr>\n",
       "    <tr>\n",
       "      <th>1</th>\n",
       "      <td>An ideal opportunity for an individual that ha...</td>\n",
       "      <td>London</td>\n",
       "      <td>permanent</td>\n",
       "      <td>50000</td>\n",
       "    </tr>\n",
       "    <tr>\n",
       "      <th>2</th>\n",
       "      <td>Online Content and Brand Manager// Luxury Reta...</td>\n",
       "      <td>South East London</td>\n",
       "      <td>permanent</td>\n",
       "      <td>40000</td>\n",
       "    </tr>\n",
       "    <tr>\n",
       "      <th>3</th>\n",
       "      <td>A great local marketleader is seeking a perman...</td>\n",
       "      <td>Dereham</td>\n",
       "      <td>permanent</td>\n",
       "      <td>22500</td>\n",
       "    </tr>\n",
       "    <tr>\n",
       "      <th>4</th>\n",
       "      <td>Registered Nurse / RGN  Nursing Home for Young...</td>\n",
       "      <td>Sutton Coldfield</td>\n",
       "      <td>NaN</td>\n",
       "      <td>20355</td>\n",
       "    </tr>\n",
       "  </tbody>\n",
       "</table>\n",
       "</div>"
      ]
     },
     "metadata": {},
     "execution_count": 1
    }
   ],
   "metadata": {}
  },
  {
   "cell_type": "markdown",
   "source": [
    "### Preprocessing"
   ],
   "metadata": {}
  },
  {
   "cell_type": "code",
   "execution_count": 2,
   "source": [
    "# Will do all operation with the copy of original data frame\r\n",
    "df = df_orig\r\n",
    "# Change all text to lower case\r\n",
    "def preproc(df, col_ind):\r\n",
    "    \"\"\"\r\n",
    "    Preprocessing stage\r\n",
    "    df -- DataFrame\r\n",
    "    col_ind -- indices of the columns one wants to transform\r\n",
    "    \"\"\"\r\n",
    "    # ----- Preprocessing -----\r\n",
    "    for ii in col_ind:\r\n",
    "        df[df.columns[ii]] = df[df.columns[ii]].str.lower()\r\n",
    "        df[df.columns[ii]] = df[df.columns[ii]].replace('[^a-zA-Z0-9]', ' ', regex=True)\r\n",
    "\r\n",
    "    # replace Nan/null to 'nan'\r\n",
    "    df['LocationNormalized'].fillna('nan', inplace=True)\r\n",
    "    df['ContractTime'].fillna('nan', inplace=True)\r\n",
    "\r\n",
    "    return df\r\n",
    "\r\n",
    "df_train = preproc(df, [0, 1, 2])\r\n",
    "df_test = preproc(df_test, [0, 1, 2])"
   ],
   "outputs": [],
   "metadata": {}
  },
  {
   "cell_type": "code",
   "execution_count": 4,
   "source": [
    "# ----- Transform of the text features to number features -----\r\n",
    "# tf-idf for description column\r\n",
    "vectorizer = TfidfVectorizer(min_df=5)\r\n",
    "X_1_train = vectorizer.fit_transform(df_train['FullDescription'])\r\n",
    "X_1_test = vectorizer.transform(df_test['FullDescription'])\r\n",
    "# One-hot for location and contarct time\r\n",
    "dict_vec = DictVectorizer()\r\n",
    "X_2_train = dict_vec.fit_transform(df_train[['LocationNormalized', 'ContractTime']].to_dict('records'))\r\n",
    "X_2_test = dict_vec.transform(df_test[['LocationNormalized', 'ContractTime']].to_dict('records'))\r\n",
    "# hstack two matrices \r\n",
    "X_train = hstack([X_1_train, X_2_train])\r\n",
    "X_test = hstack([X_1_test, X_2_test])\r\n"
   ],
   "outputs": [],
   "metadata": {}
  },
  {
   "cell_type": "code",
   "execution_count": 7,
   "source": [
    "# Train the model\r\n",
    "y = df['SalaryNormalized']\r\n",
    "regr = Ridge(alpha=1, random_state=241)\r\n",
    "regr.fit(X_train, y)\r\n",
    "# Make a prediction\r\n",
    "y_test = regr.predict(X_test)\r\n",
    "print(y_test)"
   ],
   "outputs": [
    {
     "output_type": "stream",
     "name": "stdout",
     "text": [
      "[56576.85843852 37136.30172263]\n"
     ]
    }
   ],
   "metadata": {}
  },
  {
   "cell_type": "code",
   "execution_count": 25,
   "source": [
    "# # Save in file\r\n",
    "# txt_file = open('salary_ans.txt', 'w')\r\n",
    "# for sal in y_test:\r\n",
    "#     txt_file.write('%.2f ' % sal)\r\n",
    "# txt_file.close()"
   ],
   "outputs": [],
   "metadata": {}
  },
  {
   "cell_type": "code",
   "execution_count": null,
   "source": [],
   "outputs": [],
   "metadata": {}
  }
 ]
}