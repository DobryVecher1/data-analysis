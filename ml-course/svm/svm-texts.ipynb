{
 "metadata": {
  "language_info": {
   "codemirror_mode": {
    "name": "ipython",
    "version": 3
   },
   "file_extension": ".py",
   "mimetype": "text/x-python",
   "name": "python",
   "nbconvert_exporter": "python",
   "pygments_lexer": "ipython3",
   "version": "3.9.5"
  },
  "orig_nbformat": 4,
  "kernelspec": {
   "name": "python3",
   "display_name": "Python 3.9.5 64-bit"
  },
  "interpreter": {
   "hash": "3fa3a2a7590b3915ab17662d71834416bd3a1b2d99481e19a256b8ec08b40195"
  }
 },
 "nbformat": 4,
 "nbformat_minor": 2,
 "cells": [
  {
   "cell_type": "markdown",
   "source": [
    "### Support Vector Machine (SVM). Determine the main topic of the news  "
   ],
   "metadata": {}
  },
  {
   "cell_type": "code",
   "execution_count": 1,
   "source": [
    "from sklearn import datasets\r\n",
    "from sklearn.feature_extraction.text import TfidfVectorizer\r\n",
    "from sklearn.svm import SVC\r\n",
    "from sklearn.model_selection import KFold\r\n",
    "from sklearn.model_selection import GridSearchCV\r\n",
    "import numpy as np \r\n",
    "import pandas as pd\r\n",
    "\r\n",
    "newsgroups = datasets.fetch_20newsgroups(\r\n",
    "                    subset='all', \r\n",
    "                    categories=['alt.atheism', 'sci.space']\r\n",
    "             )"
   ],
   "outputs": [],
   "metadata": {}
  },
  {
   "cell_type": "code",
   "execution_count": 2,
   "source": [
    "# Texts\r\n",
    "X = newsgroups.data\r\n",
    "# Number of class\r\n",
    "y = newsgroups.target\r\n",
    "\r\n",
    "vectorizer = TfidfVectorizer()\r\n",
    "X_vec = vectorizer.fit_transform(X)\r\n",
    "# Find the best value for C regularization parameter\r\n",
    "grid = {'C': np.power(10.0, np.arange(-5, 6))}\r\n",
    "cv = KFold(n_splits=5, shuffle=True, random_state=241)\r\n",
    "clf = SVC(kernel='linear', random_state=241)\r\n",
    "gs = GridSearchCV(clf, grid, scoring='accuracy', cv=cv)\r\n",
    "gs.fit(X_vec, y)"
   ],
   "outputs": [],
   "metadata": {
    "tags": []
   }
  },
  {
   "cell_type": "code",
   "execution_count": 3,
   "source": [
    "# Best parameter C\r\n",
    "C_best = gs.best_params_\r\n",
    "# Use the best C in SVM\r\n",
    "clf_best = SVC(C=C_best['C'], random_state=241, kernel='linear')\r\n",
    "clf_best.fit(X_vec, y)"
   ],
   "outputs": [
    {
     "output_type": "execute_result",
     "data": {
      "text/plain": [
       "SVC(kernel='linear', random_state=241)"
      ]
     },
     "metadata": {},
     "execution_count": 3
    }
   ],
   "metadata": {}
  },
  {
   "cell_type": "code",
   "execution_count": 40,
   "source": [
    "# Find 10 words with the biggest value\r\n",
    "names_arr = np.array(vectorizer.get_feature_names())\r\n",
    "coef_mat = pd.Series(clf_best.coef_.data, index=names_arr[clf_best.coef_.indices],\r\n",
    "                    name='Coefficients')\r\n",
    "\r\n",
    "words = coef_mat.abs().sort_values(ascending=False).head(10)\r\n",
    "words = words.index.sort_values(ascending=True).to_numpy()\r\n",
    "\r\n",
    "# txt_file = open('answer_text.txt', 'w')\r\n",
    "# for elem in words:\r\n",
    "#     txt_file.write(elem+' ')\r\n",
    "# txt_file.close()\r\n"
   ],
   "outputs": [],
   "metadata": {}
  },
  {
   "cell_type": "code",
   "execution_count": null,
   "source": [],
   "outputs": [],
   "metadata": {}
  }
 ]
}