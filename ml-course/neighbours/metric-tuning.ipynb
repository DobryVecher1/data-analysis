{
 "metadata": {
  "language_info": {
   "codemirror_mode": {
    "name": "ipython",
    "version": 3
   },
   "file_extension": ".py",
   "mimetype": "text/x-python",
   "name": "python",
   "nbconvert_exporter": "python",
   "pygments_lexer": "ipython3",
   "version": "3.9.5"
  },
  "orig_nbformat": 4,
  "kernelspec": {
   "name": "python3",
   "display_name": "Python 3.9.5 64-bit"
  },
  "interpreter": {
   "hash": "3fa3a2a7590b3915ab17662d71834416bd3a1b2d99481e19a256b8ec08b40195"
  }
 },
 "nbformat": 4,
 "nbformat_minor": 2,
 "cells": [
  {
   "source": [
    "## Regression based on k-nearest neighbors. Find the best metrics for particular task. \n",
    "We will choose Minkowski distance $$ \\rho(x,z)=\\left(\\sum_{j=1}^{d}|x_{j}-z_{j}|^{p}\\right)^{1/p} $$\n",
    "and find parameter p  which is the best for the problem (the smallest mean squared error MSE).\n",
    "<br>\n",
    "Note: p = 1 corresponds to Manhattan distance, p = 2 corresponds to Euclidean distance"
   ],
   "cell_type": "markdown",
   "metadata": {}
  },
  {
   "cell_type": "code",
   "execution_count": 1,
   "metadata": {},
   "outputs": [],
   "source": [
    "import numpy as np\n",
    "import pandas as pd\n",
    "from sklearn.datasets import load_boston\n",
    "from sklearn.preprocessing import scale\n",
    "from sklearn.neighbors import KNeighborsRegressor\n",
    "from sklearn.model_selection import KFold, cross_val_score\n",
    "\n",
    "# Importing the dataset (house-prices dataset)\n",
    "data_set = load_boston()\n",
    "# Scaling the features\n",
    "X = scale(data_set.data)\n",
    "y = data_set.target\n",
    "# Minkowski parameter"
   ]
  },
  {
   "cell_type": "code",
   "execution_count": 2,
   "metadata": {},
   "outputs": [
    {
     "output_type": "stream",
     "name": "stdout",
     "text": [
      "The best parameter p is 1\n"
     ]
    }
   ],
   "source": [
    "# Parameter p\n",
    "mink_param = np.linspace(1, 10, 200)\n",
    "# Number of neighbors\n",
    "num_neigh = 5\n",
    "# Array of errors\n",
    "error_arr = np.zeros((len(mink_param)))\n",
    "# K-Folds cross-validator\n",
    "kf = KFold(n_splits=5, shuffle=True, random_state=42)\n",
    "for ii in range(len(mink_param)):\n",
    "    # Regression based on k-nearest neighbors\n",
    "    k_neigh = KNeighborsRegressor(n_neighbors=num_neigh, weights='distance', metric='minkowski', p=mink_param[ii])\n",
    "    # Evaluation of mean value of MSE for each block\n",
    "    error_arr[ii] = (cross_val_score(estimator=k_neigh, X=X, y=y, cv=kf, scoring='neg_mean_squared_error')).mean()\n",
    "\n",
    "best_p = mink_param[np.argmax(error_arr)]\n",
    "print('The best parameter p is %g' % best_p)"
   ]
  },
  {
   "cell_type": "code",
   "execution_count": null,
   "metadata": {},
   "outputs": [],
   "source": []
  }
 ]
}