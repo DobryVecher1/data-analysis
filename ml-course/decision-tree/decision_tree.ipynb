{
 "metadata": {
  "language_info": {
   "codemirror_mode": {
    "name": "ipython",
    "version": 3
   },
   "file_extension": ".py",
   "mimetype": "text/x-python",
   "name": "python",
   "nbconvert_exporter": "python",
   "pygments_lexer": "ipython3",
   "version": "3.9.5"
  },
  "orig_nbformat": 4,
  "kernelspec": {
   "name": "python3",
   "display_name": "Python 3.9.5 64-bit"
  },
  "interpreter": {
   "hash": "3fa3a2a7590b3915ab17662d71834416bd3a1b2d99481e19a256b8ec08b40195"
  }
 },
 "nbformat": 4,
 "nbformat_minor": 2,
 "cells": [
  {
   "cell_type": "markdown",
   "source": [
    "### Classification problem for Titanic dataset. \n",
    "The goal is to predict whether the passenger survived or not"
   ],
   "metadata": {}
  },
  {
   "cell_type": "code",
   "execution_count": 1,
   "source": [
    "import numpy as np \r\n",
    "import pandas as pd\r\n",
    "from sklearn.tree import DecisionTreeClassifier\r\n",
    "\r\n",
    "full_data = pd.read_csv('titanic_data.csv')\r\n",
    "# We will use only \"Survived\", \"Pclass\", \"Fare\", \"Sex\" and \"Age\" columns\r\n",
    "data_set = full_data[['Survived', 'Pclass', 'Fare', 'Age', 'Sex']]\r\n",
    "# Delete objects with missing values\r\n",
    "data_set = data_set.dropna(axis=0)\r\n",
    "# 1- male, 0 - female\r\n",
    "data_set = data_set.replace('male', 1)\r\n",
    "data_set = data_set.replace('female', 0)\r\n",
    "# Decision tree accept array-like input\r\n",
    "data_array = data_set.to_numpy()\r\n",
    "x = data_array[:, 1:]\r\n",
    "# Variable y is 'Survived' column\r\n",
    "y = data_array[:, 0]\r\n",
    "# Train the decision tree\r\n",
    "clf = DecisionTreeClassifier(random_state=241)\r\n",
    "clf.fit(x, y)\r\n",
    "importances = clf.feature_importances_\r\n",
    "# Find two most important features\r\n",
    "max_1 = np.argmax(importances)\r\n",
    "importances[max_1] = importances[max_1]-1\r\n",
    "max_2 = np.argmax(importances)\r\n",
    "print(\"The most impornant features is \", data_set.columns[max_1+1], \" and \", data_set.columns[max_2+1])"
   ],
   "outputs": [],
   "metadata": {}
  },
  {
   "cell_type": "code",
   "execution_count": null,
   "source": [],
   "outputs": [],
   "metadata": {}
  }
 ]
}