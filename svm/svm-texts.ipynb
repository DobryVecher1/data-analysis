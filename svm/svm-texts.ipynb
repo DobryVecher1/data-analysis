{
 "metadata": {
  "language_info": {
   "codemirror_mode": {
    "name": "ipython",
    "version": 3
   },
   "file_extension": ".py",
   "mimetype": "text/x-python",
   "name": "python",
   "nbconvert_exporter": "python",
   "pygments_lexer": "ipython3",
   "version": "3.9.5"
  },
  "orig_nbformat": 4,
  "kernelspec": {
   "name": "python3",
   "display_name": "Python 3.9.5 64-bit"
  },
  "interpreter": {
   "hash": "3fa3a2a7590b3915ab17662d71834416bd3a1b2d99481e19a256b8ec08b40195"
  }
 },
 "nbformat": 4,
 "nbformat_minor": 2,
 "cells": [
  {
   "source": [
    "### Support Vector Machine (SVM). Determine the main topic of the news  "
   ],
   "cell_type": "markdown",
   "metadata": {}
  },
  {
   "cell_type": "code",
   "execution_count": 1,
   "metadata": {},
   "outputs": [],
   "source": [
    "from sklearn import datasets\r\n",
    "from sklearn.feature_extraction.text import TfidfVectorizer\r\n",
    "from sklearn.svm import SVC\r\n",
    "from sklearn.model_selection import KFold\r\n",
    "from sklearn.model_selection import GridSearchCV\r\n",
    "import numpy as np \r\n",
    "import pandas as pd\r\n",
    "\r\n",
    "newsgroups = datasets.fetch_20newsgroups(\r\n",
    "                    subset='all', \r\n",
    "                    categories=['alt.atheism', 'sci.space']\r\n",
    "             )"
   ]
  },
  {
   "cell_type": "code",
   "execution_count": 2,
   "metadata": {
    "tags": []
   },
   "outputs": [
    {
     "output_type": "execute_result",
     "data": {
      "text/plain": [
       "GridSearchCV(cv=KFold(n_splits=5, random_state=241, shuffle=True),\n",
       "             estimator=SVC(kernel='linear', random_state=241),\n",
       "             param_grid={'C': array([1.e-05, 1.e-04, 1.e-03, 1.e-02, 1.e-01, 1.e+00, 1.e+01, 1.e+02,\n",
       "       1.e+03, 1.e+04, 1.e+05])},\n",
       "             scoring='accuracy')"
      ]
     },
     "metadata": {},
     "execution_count": 2
    }
   ],
   "source": [
    "# Texts\n",
    "X = newsgroups.data\n",
    "# Number of class\n",
    "y = newsgroups.target\n",
    "\n",
    "vectorizer = TfidfVectorizer()\n",
    "X_vec = vectorizer.fit_transform(X)\n",
    "# Find the best value for C regularization parameter\n",
    "grid = {'C': np.power(10.0, np.arange(-5, 6))}\n",
    "cv = KFold(n_splits=5, shuffle=True, random_state=241)\n",
    "clf = SVC(kernel='linear', random_state=241)\n",
    "gs = GridSearchCV(clf, grid, scoring='accuracy', cv=cv)\n",
    "gs.fit(X_vec, y)"
   ]
  },
  {
   "cell_type": "code",
   "execution_count": 3,
   "metadata": {},
   "outputs": [
    {
     "output_type": "execute_result",
     "data": {
      "text/plain": [
       "SVC(kernel='linear', random_state=241)"
      ]
     },
     "metadata": {},
     "execution_count": 3
    }
   ],
   "source": [
    "# Best parameter C\n",
    "C_best = gs.best_params_\n",
    "# Use the best C in SVM\n",
    "clf_best = SVC(C=C_best['C'], random_state=241, kernel='linear')\n",
    "clf_best.fit(X_vec, y)"
   ]
  },
  {
   "cell_type": "code",
   "execution_count": 40,
   "metadata": {},
   "outputs": [],
   "source": [
    "# Find 10 words with the biggest value\n",
    "names_arr = np.array(vectorizer.get_feature_names())\n",
    "coef_mat = pd.Series(clf_best.coef_.data, index=names_arr[clf_best.coef_.indices],\n",
    "                    name='Coefficients')\n",
    "\n",
    "words = coef_mat.abs().sort_values(ascending=False).head(10)\n",
    "words = words.index.sort_values(ascending=True).to_numpy()\n",
    "\n",
    "# txt_file = open('answer_text.txt', 'w')\n",
    "# for elem in words:\n",
    "#     txt_file.write(elem+' ')\n",
    "# txt_file.close()\n"
   ]
  },
  {
   "cell_type": "code",
   "execution_count": null,
   "metadata": {},
   "outputs": [],
   "source": []
  }
 ]
}