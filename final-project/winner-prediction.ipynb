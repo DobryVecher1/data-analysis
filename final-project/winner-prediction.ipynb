{
 "cells": [
  {
   "cell_type": "markdown",
   "source": [
    "#### Описание признаков в таблице\r\n",
    "\r\n",
    "- `match_id`: идентификатор матча в наборе данных\r\n",
    "- `start_time`: время начала матча (unixtime)\r\n",
    "- `lobby_type`: тип комнаты, в которой собираются игроки (расшифровка в `dictionaries/lobbies.csv`)\r\n",
    "- Наборы признаков для каждого игрока (игроки команды Radiant — префикс `rN`, Dire — `dN`):\r\n",
    "    - `r1_hero`: герой игрока (расшифровка в dictionaries/heroes.csv)\r\n",
    "    - `r1_level`: максимальный достигнутый уровень героя (за первые 5 игровых минут)\r\n",
    "    - `r1_xp`: максимальный полученный опыт\r\n",
    "    - `r1_gold`: достигнутая ценность героя\r\n",
    "    - `r1_lh`: число убитых юнитов\r\n",
    "    - `r1_kills`: число убитых игроков\r\n",
    "    - `r1_deaths`: число смертей героя\r\n",
    "    - `r1_items`: число купленных предметов\r\n",
    "- Признаки события \"первая кровь\" (first blood). Если событие \"первая кровь\" не успело произойти за первые 5 минут, то признаки принимают пропущенное значение\r\n",
    "    - `first_blood_time`: игровое время первой крови\r\n",
    "    - `first_blood_team`: команда, совершившая первую кровь (0 — Radiant, 1 — Dire)\r\n",
    "    - `first_blood_player1`: игрок, причастный к событию\r\n",
    "    - `first_blood_player2`: второй игрок, причастный к событию\r\n",
    "- Признаки для каждой команды (префиксы `radiant_` и `dire_`)\r\n",
    "    - `radiant_bottle_time`: время первого приобретения командой предмета \"bottle\"\r\n",
    "    - `radiant_courier_time`: время приобретения предмета \"courier\" \r\n",
    "    - `radiant_flying_courier_time`: время приобретения предмета \"flying_courier\" \r\n",
    "    - `radiant_tpscroll_count`: число предметов \"tpscroll\" за первые 5 минут\r\n",
    "    - `radiant_boots_count`: число предметов \"boots\"\r\n",
    "    - `radiant_ward_observer_count`: число предметов \"ward_observer\"\r\n",
    "    - `radiant_ward_sentry_count`: число предметов \"ward_sentry\"\r\n",
    "    - `radiant_first_ward_time`: время установки командой первого \"наблюдателя\", т.е. предмета, который позволяет видеть часть игрового поля\r\n",
    "- Итог матча (данные поля отсутствуют в тестовой выборке, поскольку содержат информацию, выходящую за пределы первых 5 минут матча)\r\n",
    "    - `duration`: длительность\r\n",
    "    - `radiant_win`: 1, если победила команда Radiant, 0 — иначе\r\n",
    "    - Состояние башен и барраков к концу матча (см. описание полей набора данных)\r\n",
    "        - `tower_status_radiant`\r\n",
    "        - `tower_status_dire`\r\n",
    "        - `barracks_status_radiant`\r\n",
    "        - `barracks_status_dire`"
   ],
   "metadata": {}
  },
  {
   "cell_type": "code",
   "execution_count": 33,
   "source": [
    "import numpy as np\r\n",
    "import pandas as pd\r\n",
    "from time import time\r\n",
    "import matplotlib.pyplot as plt\r\n",
    "from sklearn.ensemble import GradientBoostingClassifier\r\n",
    "from sklearn.model_selection import KFold\r\n",
    "from sklearn.model_selection import cross_val_score\r\n",
    "from sklearn.preprocessing import StandardScaler\r\n",
    "from sklearn.linear_model import LogisticRegression\r\n",
    "\r\n",
    "df_train = pd.read_csv('./features.csv', index_col='match_id')\r\n",
    "y = df_train['radiant_win']\r\n",
    "cv = KFold(n_splits=5, shuffle=True)\r\n",
    "# Удалим признаки, связанные с итогами матча (6 штук)\r\n",
    "df_train = df_train.iloc[:, :-6]\r\n",
    "num_obj = len(df_train)\r\n",
    "num_feat = len(df_train.columns)\r\n",
    "df_train.head()"
   ],
   "outputs": [
    {
     "output_type": "execute_result",
     "data": {
      "text/plain": [
       "          start_time  lobby_type  r1_hero  r1_level  r1_xp  r1_gold  r1_lh  \\\n",
       "match_id                                                                     \n",
       "0         1430198770           7       11         5   2098     1489     20   \n",
       "1         1430220345           0       42         4   1188     1033      9   \n",
       "2         1430227081           7       33         4   1319     1270     22   \n",
       "3         1430263531           1       29         4   1779     1056     14   \n",
       "4         1430282290           7       13         4   1431     1090      8   \n",
       "\n",
       "          r1_kills  r1_deaths  r1_items  ...  radiant_ward_sentry_count  \\\n",
       "match_id                                 ...                              \n",
       "0                0          0         7  ...                          0   \n",
       "1                0          1        12  ...                          0   \n",
       "2                0          0        12  ...                          1   \n",
       "3                0          0         5  ...                          0   \n",
       "4                1          0         8  ...                          0   \n",
       "\n",
       "          radiant_first_ward_time  dire_bottle_time  dire_courier_time  \\\n",
       "match_id                                                                 \n",
       "0                            35.0             103.0              -84.0   \n",
       "1                           -20.0             149.0              -84.0   \n",
       "2                           -39.0              45.0              -77.0   \n",
       "3                           -30.0             124.0              -80.0   \n",
       "4                            46.0             182.0              -80.0   \n",
       "\n",
       "          dire_flying_courier_time  dire_tpscroll_count  dire_boots_count  \\\n",
       "match_id                                                                    \n",
       "0                            221.0                    3                 4   \n",
       "1                            195.0                    5                 4   \n",
       "2                            221.0                    3                 4   \n",
       "3                            184.0                    0                 4   \n",
       "4                            225.0                    6                 3   \n",
       "\n",
       "          dire_ward_observer_count  dire_ward_sentry_count  \\\n",
       "match_id                                                     \n",
       "0                                2                       2   \n",
       "1                                3                       1   \n",
       "2                                3                       1   \n",
       "3                                2                       0   \n",
       "4                                3                       0   \n",
       "\n",
       "          dire_first_ward_time  \n",
       "match_id                        \n",
       "0                        -52.0  \n",
       "1                         -5.0  \n",
       "2                         13.0  \n",
       "3                         27.0  \n",
       "4                        -16.0  \n",
       "\n",
       "[5 rows x 102 columns]"
      ],
      "text/html": [
       "<div>\n",
       "<style scoped>\n",
       "    .dataframe tbody tr th:only-of-type {\n",
       "        vertical-align: middle;\n",
       "    }\n",
       "\n",
       "    .dataframe tbody tr th {\n",
       "        vertical-align: top;\n",
       "    }\n",
       "\n",
       "    .dataframe thead th {\n",
       "        text-align: right;\n",
       "    }\n",
       "</style>\n",
       "<table border=\"1\" class=\"dataframe\">\n",
       "  <thead>\n",
       "    <tr style=\"text-align: right;\">\n",
       "      <th></th>\n",
       "      <th>start_time</th>\n",
       "      <th>lobby_type</th>\n",
       "      <th>r1_hero</th>\n",
       "      <th>r1_level</th>\n",
       "      <th>r1_xp</th>\n",
       "      <th>r1_gold</th>\n",
       "      <th>r1_lh</th>\n",
       "      <th>r1_kills</th>\n",
       "      <th>r1_deaths</th>\n",
       "      <th>r1_items</th>\n",
       "      <th>...</th>\n",
       "      <th>radiant_ward_sentry_count</th>\n",
       "      <th>radiant_first_ward_time</th>\n",
       "      <th>dire_bottle_time</th>\n",
       "      <th>dire_courier_time</th>\n",
       "      <th>dire_flying_courier_time</th>\n",
       "      <th>dire_tpscroll_count</th>\n",
       "      <th>dire_boots_count</th>\n",
       "      <th>dire_ward_observer_count</th>\n",
       "      <th>dire_ward_sentry_count</th>\n",
       "      <th>dire_first_ward_time</th>\n",
       "    </tr>\n",
       "    <tr>\n",
       "      <th>match_id</th>\n",
       "      <th></th>\n",
       "      <th></th>\n",
       "      <th></th>\n",
       "      <th></th>\n",
       "      <th></th>\n",
       "      <th></th>\n",
       "      <th></th>\n",
       "      <th></th>\n",
       "      <th></th>\n",
       "      <th></th>\n",
       "      <th></th>\n",
       "      <th></th>\n",
       "      <th></th>\n",
       "      <th></th>\n",
       "      <th></th>\n",
       "      <th></th>\n",
       "      <th></th>\n",
       "      <th></th>\n",
       "      <th></th>\n",
       "      <th></th>\n",
       "      <th></th>\n",
       "    </tr>\n",
       "  </thead>\n",
       "  <tbody>\n",
       "    <tr>\n",
       "      <th>0</th>\n",
       "      <td>1430198770</td>\n",
       "      <td>7</td>\n",
       "      <td>11</td>\n",
       "      <td>5</td>\n",
       "      <td>2098</td>\n",
       "      <td>1489</td>\n",
       "      <td>20</td>\n",
       "      <td>0</td>\n",
       "      <td>0</td>\n",
       "      <td>7</td>\n",
       "      <td>...</td>\n",
       "      <td>0</td>\n",
       "      <td>35.0</td>\n",
       "      <td>103.0</td>\n",
       "      <td>-84.0</td>\n",
       "      <td>221.0</td>\n",
       "      <td>3</td>\n",
       "      <td>4</td>\n",
       "      <td>2</td>\n",
       "      <td>2</td>\n",
       "      <td>-52.0</td>\n",
       "    </tr>\n",
       "    <tr>\n",
       "      <th>1</th>\n",
       "      <td>1430220345</td>\n",
       "      <td>0</td>\n",
       "      <td>42</td>\n",
       "      <td>4</td>\n",
       "      <td>1188</td>\n",
       "      <td>1033</td>\n",
       "      <td>9</td>\n",
       "      <td>0</td>\n",
       "      <td>1</td>\n",
       "      <td>12</td>\n",
       "      <td>...</td>\n",
       "      <td>0</td>\n",
       "      <td>-20.0</td>\n",
       "      <td>149.0</td>\n",
       "      <td>-84.0</td>\n",
       "      <td>195.0</td>\n",
       "      <td>5</td>\n",
       "      <td>4</td>\n",
       "      <td>3</td>\n",
       "      <td>1</td>\n",
       "      <td>-5.0</td>\n",
       "    </tr>\n",
       "    <tr>\n",
       "      <th>2</th>\n",
       "      <td>1430227081</td>\n",
       "      <td>7</td>\n",
       "      <td>33</td>\n",
       "      <td>4</td>\n",
       "      <td>1319</td>\n",
       "      <td>1270</td>\n",
       "      <td>22</td>\n",
       "      <td>0</td>\n",
       "      <td>0</td>\n",
       "      <td>12</td>\n",
       "      <td>...</td>\n",
       "      <td>1</td>\n",
       "      <td>-39.0</td>\n",
       "      <td>45.0</td>\n",
       "      <td>-77.0</td>\n",
       "      <td>221.0</td>\n",
       "      <td>3</td>\n",
       "      <td>4</td>\n",
       "      <td>3</td>\n",
       "      <td>1</td>\n",
       "      <td>13.0</td>\n",
       "    </tr>\n",
       "    <tr>\n",
       "      <th>3</th>\n",
       "      <td>1430263531</td>\n",
       "      <td>1</td>\n",
       "      <td>29</td>\n",
       "      <td>4</td>\n",
       "      <td>1779</td>\n",
       "      <td>1056</td>\n",
       "      <td>14</td>\n",
       "      <td>0</td>\n",
       "      <td>0</td>\n",
       "      <td>5</td>\n",
       "      <td>...</td>\n",
       "      <td>0</td>\n",
       "      <td>-30.0</td>\n",
       "      <td>124.0</td>\n",
       "      <td>-80.0</td>\n",
       "      <td>184.0</td>\n",
       "      <td>0</td>\n",
       "      <td>4</td>\n",
       "      <td>2</td>\n",
       "      <td>0</td>\n",
       "      <td>27.0</td>\n",
       "    </tr>\n",
       "    <tr>\n",
       "      <th>4</th>\n",
       "      <td>1430282290</td>\n",
       "      <td>7</td>\n",
       "      <td>13</td>\n",
       "      <td>4</td>\n",
       "      <td>1431</td>\n",
       "      <td>1090</td>\n",
       "      <td>8</td>\n",
       "      <td>1</td>\n",
       "      <td>0</td>\n",
       "      <td>8</td>\n",
       "      <td>...</td>\n",
       "      <td>0</td>\n",
       "      <td>46.0</td>\n",
       "      <td>182.0</td>\n",
       "      <td>-80.0</td>\n",
       "      <td>225.0</td>\n",
       "      <td>6</td>\n",
       "      <td>3</td>\n",
       "      <td>3</td>\n",
       "      <td>0</td>\n",
       "      <td>-16.0</td>\n",
       "    </tr>\n",
       "  </tbody>\n",
       "</table>\n",
       "<p>5 rows × 102 columns</p>\n",
       "</div>"
      ]
     },
     "metadata": {},
     "execution_count": 33
    }
   ],
   "metadata": {}
  },
  {
   "cell_type": "markdown",
   "source": [
    "### Проверим данные на наличие пропусков"
   ],
   "metadata": {}
  },
  {
   "cell_type": "code",
   "execution_count": 34,
   "source": [
    "missed_values = np.zeros(num_feat)\r\n",
    "for ii in range(num_feat):\r\n",
    "    missed_values[ii] = num_obj-df_train[df_train.columns[ii]].count()\r\n",
    "# Выведем названия признаков, в которых есть пропуски\r\n",
    "col_miss = df_train.columns[np.nonzero(missed_values)]\r\n",
    "col_miss_df = pd.DataFrame(\r\n",
    "    {'missed_values' : np.int64(missed_values[np.nonzero(missed_values)])}, \r\n",
    "    index=col_miss)\r\n",
    "\r\n",
    "# Заменим пропуски на нули\r\n",
    "df_train = df_train.fillna(0)\r\n",
    "# Для удобства \r\n",
    "X = df_train"
   ],
   "outputs": [],
   "metadata": {}
  },
  {
   "cell_type": "markdown",
   "source": [
    "### Признаки, связанные с пролитием \"первой крови\" (**first_blood_time**, **first_blood_team**, **first_blood_player1**, **first_blood_player2**) могут иметь пропуски, если не было убийств в первые 5 минут.\r\n",
    "### **radiant_bottle_time**, **radiant_courier_time**, **radiant_flying_courier_time** -- если не были куплены соответствующие предметы.\r\n",
    "### **radiant_first_ward_time** -- если не был установлен вард.\r\n",
    "### Аналогично для стороны \"Dire\"."
   ],
   "metadata": {}
  },
  {
   "cell_type": "markdown",
   "source": [
    "## Подход 1: градиентный бустинг"
   ],
   "metadata": {}
  },
  {
   "cell_type": "code",
   "execution_count": 35,
   "source": [
    "# Протестируем для разного количества деревьев\r\n",
    "num_est = [10, 30, 50, 100, 200]\r\n",
    "cv_mean_score1 = []\r\n",
    "time_spent = []\r\n",
    "for ii in range(len(num_est)):\r\n",
    "    tic = time()\r\n",
    "    clf = GradientBoostingClassifier(n_estimators=num_est[ii])\r\n",
    "    clf.fit(X, y)\r\n",
    "    # Найдем оценку на кросс-валидации\r\n",
    "    cv_mean_score1.append(np.mean(cross_val_score(clf, X, y, cv=cv, scoring='roc_auc')))\r\n",
    "    toc = time()\r\n",
    "    time_spent.append(toc-tic) \r\n",
    "    print('Количество деревьев: %g, затраченное время: %g мин., %g сек., AUC-ROC = %3f\\n' % \r\n",
    "                        (num_est[ii], (toc-tic)//60, (toc-tic)%60, cv_mean_score1[-1]))"
   ],
   "outputs": [
    {
     "output_type": "stream",
     "name": "stdout",
     "text": [
      "Количество деревьев: 10, затраченное время: 2 мин., 1.33315 сек., AUC-ROC = 0.664699\n",
      "\n",
      "Количество деревьев: 30, затраченное время: 6 мин., 1.86357 сек., AUC-ROC = 0.689550\n",
      "\n",
      "Количество деревьев: 50, затраченное время: 10 мин., 1.51751 сек., AUC-ROC = 0.697918\n",
      "\n",
      "Количество деревьев: 100, затраченное время: 20 мин., 0.671525 сек., AUC-ROC = 0.706332\n",
      "\n",
      "Количество деревьев: 200, затраченное время: 39 мин., 34.5687 сек., AUC-ROC = 0.713576\n",
      "\n"
     ]
    }
   ],
   "metadata": {}
  },
  {
   "cell_type": "markdown",
   "source": [
    "### Графики оценки кросс-валидации и затраченного времени"
   ],
   "metadata": {}
  },
  {
   "cell_type": "code",
   "execution_count": 36,
   "source": [
    "fig1, ax1 = plt.subplots()\r\n",
    "ax1.grid(True)\r\n",
    "ax1.plot(num_est, cv_mean_score1)\r\n",
    "ax1.set_xlabel('Количество деревьев')\r\n",
    "ax1.set_ylabel('AUC-ROC')\r\n",
    "ax1.set_ylim([0.6, 0.8])\r\n",
    "\r\n",
    "fig2, ax2 = plt.subplots()\r\n",
    "ax2.grid(True)\r\n",
    "ax2.plot(num_est, time_spent)\r\n",
    "ax2.set_xlabel('Количество деревьев')\r\n",
    "ax2.set_ylabel('Время моделирования, сек')"
   ],
   "outputs": [
    {
     "output_type": "execute_result",
     "data": {
      "text/plain": [
       "Text(0, 0.5, 'Время моделирования, сек')"
      ]
     },
     "metadata": {},
     "execution_count": 36
    },
    {
     "output_type": "display_data",
     "data": {
      "text/plain": [
       "<Figure size 432x288 with 1 Axes>"
      ],
      "image/png": "[encoded data removed]"
     },
     "metadata": {
      "needs_background": "light"
     }
    },
    {
     "output_type": "display_data",
     "data": {
      "text/plain": [
       "<Figure size 432x288 with 1 Axes>"
      ],
      "image/png": "[encoded data removed]"
     },
     "metadata": {
      "needs_background": "light"
     }
    }
   ],
   "metadata": {}
  },
  {
   "cell_type": "markdown",
   "source": [
    "### При увеличении количества деревьев до 50, 100, 200 качество растет до значение 0.71-0.72, однако время кросс-валидации также заметно растет. Ускорения можно достичь, например, если использовать для обучения не всю выборку и/или уменьшить глубину деревьев"
   ],
   "metadata": {}
  },
  {
   "cell_type": "markdown",
   "source": [
    "## Подход 2: логистическая регрессия"
   ],
   "metadata": {}
  },
  {
   "cell_type": "code",
   "execution_count": 37,
   "source": [
    "C_regul = [1e-7, 1e-6, 1e-5, 1e-4, 1e-3, 1e-2, 1e-1]\r\n",
    "cv_mean_score2 = []\r\n",
    "# Отмасштабируем\r\n",
    "scaler = StandardScaler()\r\n",
    "X = pd.DataFrame(data=scaler.fit_transform(X), index=X.index, columns=X.columns)\r\n",
    "\r\n",
    "for regul in C_regul:\r\n",
    "    clf = LogisticRegression(penalty='l2', C=regul, max_iter=200).fit(X, y)\r\n",
    "    cv_mean_score2.append(np.mean(cross_val_score(clf, X, y, cv=cv, scoring='roc_auc')))\r\n",
    "    print('C = %g, score = %3f\\n' % (regul, cv_mean_score2[-1]))"
   ],
   "outputs": [
    {
     "output_type": "stream",
     "name": "stdout",
     "text": [
      "C = 1e-07, score = 0.687162\n",
      "\n",
      "C = 1e-06, score = 0.688173\n",
      "\n",
      "C = 1e-05, score = 0.695078\n",
      "\n",
      "C = 0.0001, score = 0.711207\n",
      "\n",
      "C = 0.001, score = 0.716400\n",
      "\n",
      "C = 0.01, score = 0.716242\n",
      "\n",
      "C = 0.1, score = 0.716489\n",
      "\n"
     ]
    }
   ],
   "metadata": {}
  },
  {
   "cell_type": "code",
   "execution_count": 38,
   "source": [
    "fig1, ax1 = plt.subplots()\r\n",
    "ax1.grid(True)\r\n",
    "ax1.plot(C_regul, cv_mean_score2)\r\n",
    "ax1.set_xlabel('Коэффициент регуляризации')\r\n",
    "ax1.set_ylabel('AUC-ROC')\r\n",
    "ax1.set_ylim([0.65, 0.75])"
   ],
   "outputs": [
    {
     "output_type": "execute_result",
     "data": {
      "text/plain": [
       "(0.65, 0.75)"
      ]
     },
     "metadata": {},
     "execution_count": 38
    },
    {
     "output_type": "display_data",
     "data": {
      "text/plain": [
       "<Figure size 432x288 with 1 Axes>"
      ],
      "image/png": "[encoded data removed]"
     },
     "metadata": {
      "needs_background": "light"
     }
    }
   ],
   "metadata": {}
  },
  {
   "cell_type": "markdown",
   "source": [
    "### При C = 0.01 качество перестает заметно расти"
   ],
   "metadata": {}
  },
  {
   "cell_type": "markdown",
   "source": [
    "### Уберем категориальные признаки и проверим качество снова"
   ],
   "metadata": {}
  },
  {
   "cell_type": "code",
   "execution_count": 39,
   "source": [
    "# Список категориальных признаков\r\n",
    "categ_feat = ['lobby_type', 'r1_hero', 'r2_hero', 'r3_hero',  'r4_hero', 'r5_hero',\r\n",
    "              'd1_hero', 'd2_hero', 'd3_hero', 'd4_hero', 'd5_hero']\r\n",
    "X_nocateg = X.drop(categ_feat, axis=1, inplace=False)\r\n",
    "# Также проведем исследование\r\n",
    "C_regul = [1e-7, 1e-6, 1e-5, 1e-4, 1e-3, 1e-2, 1e-1]\r\n",
    "cv_mean_score3 = []\r\n",
    "\r\n",
    "for regul in C_regul:\r\n",
    "    clf = LogisticRegression(penalty='l2', C=regul, max_iter=200).fit(X_nocateg, y)\r\n",
    "    cv_mean_score3.append(np.mean(cross_val_score(clf, X_nocateg, y, cv=cv, scoring='roc_auc')))\r\n",
    "    print('C = %g, score = %3f\\n' % (regul, cv_mean_score3[-1]))"
   ],
   "outputs": [
    {
     "output_type": "stream",
     "name": "stdout",
     "text": [
      "C = 1e-07, score = 0.687216\n",
      "\n",
      "C = 1e-06, score = 0.688086\n",
      "\n",
      "C = 1e-05, score = 0.695074\n",
      "\n",
      "C = 0.0001, score = 0.711234\n",
      "\n",
      "C = 0.001, score = 0.716228\n",
      "\n",
      "C = 0.01, score = 0.716403\n",
      "\n",
      "C = 0.1, score = 0.716345\n",
      "\n"
     ]
    }
   ],
   "metadata": {}
  },
  {
   "cell_type": "code",
   "execution_count": 40,
   "source": [
    "fig1, ax1 = plt.subplots()\r\n",
    "ax1.grid(True)\r\n",
    "ax1.plot(C_regul, cv_mean_score3)\r\n",
    "ax1.set_xlabel('Коэффициент регуляризации')\r\n",
    "ax1.set_ylabel('AUC-ROC')\r\n",
    "ax1.set_ylim([0.65, 0.75])"
   ],
   "outputs": [
    {
     "output_type": "execute_result",
     "data": {
      "text/plain": [
       "(0.65, 0.75)"
      ]
     },
     "metadata": {},
     "execution_count": 40
    },
    {
     "output_type": "display_data",
     "data": {
      "text/plain": [
       "<Figure size 432x288 with 1 Axes>"
      ],
      "image/png": "[encoded data removed]"
     },
     "metadata": {
      "needs_background": "light"
     }
    }
   ],
   "metadata": {}
  },
  {
   "cell_type": "markdown",
   "source": [
    "### Удаление категориальных признаков не привело к улучшению или ухудшению качества. Получается, эти признаки не вносили вклад в результат, хотя, например, выбранный персонаж играет значительную роль в игре (существуют просто сильнейшие персонажи в текущей \"мете\", одни герои хорошо стоят линию против других и т.д.) Можно сделать вывод, что имеющаяся информация была неправильно использована для предсказания."
   ],
   "metadata": {}
  },
  {
   "cell_type": "markdown",
   "source": [
    "### Найдем количество персонажей"
   ],
   "metadata": {}
  },
  {
   "cell_type": "code",
   "execution_count": 41,
   "source": [
    "num_heroes = 0\r\n",
    "for ii in range(10):\r\n",
    "    if ii <= 4:\r\n",
    "        max_id = df_train['r'+str(ii+1)+'_hero'].max()\r\n",
    "    else:\r\n",
    "        max_id = df_train['d'+str(ii-4)+'_hero'].max()\r\n",
    "if max_id > num_heroes:\r\n",
    "    num_heroes = max_id\r\n",
    "\r\n",
    "print('%d героев в игре' % num_heroes)"
   ],
   "outputs": [
    {
     "output_type": "stream",
     "name": "stdout",
     "text": [
      "112 героев в игре\n"
     ]
    }
   ],
   "metadata": {}
  },
  {
   "cell_type": "markdown",
   "source": [
    "### Сформируем N признаков, при этом i-й будет равен нулю, если i-й герой не участвовал в матче; единице, если i-й герой играл за команду Radiant; минус единице, если i-й герой играл за команду Dire"
   ],
   "metadata": {}
  },
  {
   "cell_type": "code",
   "execution_count": 42,
   "source": [
    "X_pick = np.zeros((X.shape[0], num_heroes))\r\n",
    "for ii, match_id in enumerate(X.index):\r\n",
    "    for jj in range(5):\r\n",
    "        X_pick[ii, df_train['r%d_hero' % (jj+1)][match_id]-1] = 1\r\n",
    "        X_pick[ii, df_train['d%d_hero' % (jj+1)][match_id]-1] = -1\r\n",
    "# Добавим новые признаки\r\n",
    "X_pick = pd.DataFrame(data=X_pick, index=X.index)    \r\n",
    "X_train = pd.concat([X_nocateg, X_pick], axis=1)"
   ],
   "outputs": [],
   "metadata": {}
  },
  {
   "cell_type": "markdown",
   "source": [
    "### Проведем кросс-валидацию для логистической регрессии на новых данных"
   ],
   "metadata": {}
  },
  {
   "cell_type": "code",
   "execution_count": 43,
   "source": [
    "C_regul = [1e-7, 1e-6, 1e-5, 1e-4, 1e-3, 1e-2, 1e-1]\r\n",
    "cv_mean_score4 = []\r\n",
    "\r\n",
    "for regul in C_regul:\r\n",
    "    clf = LogisticRegression(penalty='l2', C=regul, max_iter=200).fit(X_train, y)\r\n",
    "    cv_mean_score4.append(np.mean(cross_val_score(clf, X_train, y, cv=cv, scoring='roc_auc')))\r\n",
    "    print('C = %g, score = %3f\\n' % (regul, cv_mean_score4[-1]))"
   ],
   "outputs": [
    {
     "output_type": "stream",
     "name": "stdout",
     "text": [
      "C = 1e-07, score = 0.689413\n",
      "\n",
      "C = 1e-06, score = 0.690477\n",
      "\n",
      "C = 1e-05, score = 0.699112\n",
      "\n",
      "C = 0.0001, score = 0.724982\n",
      "\n",
      "C = 0.001, score = 0.746140\n",
      "\n",
      "C = 0.01, score = 0.751783\n",
      "\n",
      "C = 0.1, score = 0.751757\n",
      "\n"
     ]
    }
   ],
   "metadata": {}
  },
  {
   "cell_type": "code",
   "execution_count": 44,
   "source": [
    "fig1, ax1 = plt.subplots()\r\n",
    "ax1.grid(True)\r\n",
    "ax1.plot(C_regul, cv_mean_score4)\r\n",
    "ax1.set_xlabel('Коэффициент регуляризации')\r\n",
    "ax1.set_ylabel('AUC-ROC')\r\n",
    "ax1.set_ylim([0.65, 0.8])"
   ],
   "outputs": [
    {
     "output_type": "execute_result",
     "data": {
      "text/plain": [
       "(0.65, 0.8)"
      ]
     },
     "metadata": {},
     "execution_count": 44
    },
    {
     "output_type": "display_data",
     "data": {
      "text/plain": [
       "<Figure size 432x288 with 1 Axes>"
      ],
      "image/png": "[encoded data removed]"
     },
     "metadata": {
      "needs_background": "light"
     }
    }
   ],
   "metadata": {}
  },
  {
   "cell_type": "markdown",
   "source": [
    "### AUC-ROC = 0.7516 при C = 0.01. Улучшение объясняется тем, что категориальные признаки были правильно закодированы (до этого категориальные признаки рассматривались как числовые)"
   ],
   "metadata": {}
  },
  {
   "cell_type": "markdown",
   "source": [
    "### Предсказание победителя на тестовых данных с использованием лучшей модели\r\n",
    "### Предобработка тестовых данных"
   ],
   "metadata": {}
  },
  {
   "cell_type": "code",
   "execution_count": 45,
   "source": [
    "df_test = pd.read_csv('features_test.csv', index_col='match_id')\r\n",
    "df_test.head()\r\n",
    "\r\n",
    "X_test = df_test\r\n",
    "# Заменим пропуски на нули\r\n",
    "X_test = X_test.fillna(0)\r\n",
    "X_test = X_test.drop(categ_feat, axis=1, inplace=False)\r\n",
    "X_test = pd.DataFrame(data=scaler.fit_transform(X_test), index=X_test.index, columns=X_test.columns)\r\n",
    "# Формируем новые признаки\r\n",
    "X_pick = np.zeros((X_test.shape[0], num_heroes))\r\n",
    "for ii, match_id in enumerate(X_test.index):\r\n",
    "    for jj in range(5):\r\n",
    "        X_pick[ii, df_test['r%d_hero' % (jj+1)][match_id]-1] = 1\r\n",
    "        X_pick[ii, df_test['d%d_hero' % (jj+1)][match_id]-1] = -1\r\n",
    "# Добавим новые признаки\r\n",
    "X_pick = pd.DataFrame(data=X_pick, index=X_test.index)    \r\n",
    "X_test = pd.concat([X_test, X_pick], axis=1)"
   ],
   "outputs": [],
   "metadata": {}
  },
  {
   "cell_type": "markdown",
   "source": [
    "### Предсказание"
   ],
   "metadata": {}
  },
  {
   "cell_type": "code",
   "execution_count": 46,
   "source": [
    "clf = LogisticRegression(penalty='l2', C=0.1, max_iter=200).fit(X_train, y)\r\n",
    "result = pd.Series(data=clf.predict_proba(X_test)[:, 1], index=X_test.index, name='radiant_win')\r\n",
    "result.to_csv('result.csv')\r\n",
    "# Минимальное и максимальное значения прогноза\r\n",
    "print('Максимальное значение прогноза: %3f\\nМинимальное значение прогноза: %3f' % (result.max(), result.min()))"
   ],
   "outputs": [
    {
     "output_type": "stream",
     "name": "stdout",
     "text": [
      "Максимальное значение прогноза: 0.996460\n",
      "Минимальное значение прогноза: 0.008577\n"
     ]
    }
   ],
   "metadata": {}
  },
  {
   "cell_type": "code",
   "execution_count": null,
   "source": [],
   "outputs": [],
   "metadata": {}
  }
 ],
 "metadata": {
  "orig_nbformat": 4,
  "language_info": {
   "name": "python",
   "version": "3.9.5",
   "mimetype": "text/x-python",
   "codemirror_mode": {
    "name": "ipython",
    "version": 3
   },
   "pygments_lexer": "ipython3",
   "nbconvert_exporter": "python",
   "file_extension": ".py"
  },
  "kernelspec": {
   "name": "python3",
   "display_name": "Python 3.9.5 64-bit"
  },
  "interpreter": {
   "hash": "3fa3a2a7590b3915ab17662d71834416bd3a1b2d99481e19a256b8ec08b40195"
  }
 },
 "nbformat": 4,
 "nbformat_minor": 2
}